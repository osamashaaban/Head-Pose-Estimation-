{
  "nbformat": 4,
  "nbformat_minor": 0,
  "metadata": {
    "colab": {
      "name": "Untitled5.ipynb",
      "provenance": []
    },
    "kernelspec": {
      "name": "python3",
      "display_name": "Python 3"
    },
    "language_info": {
      "name": "python"
    },
    "accelerator": "GPU",
    "gpuClass": "standard"
  },
  "cells": [
    {
      "cell_type": "code",
      "execution_count": 3,
      "metadata": {
        "colab": {
          "base_uri": "https://localhost:8080/"
        },
        "id": "Ph6pVhoSuIlH",
        "outputId": "35f72b93-f0b1-4009-c576-c66b1d1eebe8"
      },
      "outputs": [
        {
          "output_type": "stream",
          "name": "stdout",
          "text": [
            "Looking in indexes: https://pypi.org/simple, https://us-python.pkg.dev/colab-wheels/public/simple/\n",
            "Collecting mediapipe\n",
            "  Downloading mediapipe-0.8.10-cp37-cp37m-manylinux_2_17_x86_64.manylinux2014_x86_64.whl (32.8 MB)\n",
            "\u001b[K     |████████████████████████████████| 32.8 MB 1.2 MB/s \n",
            "\u001b[?25hRequirement already satisfied: opencv-python in /usr/local/lib/python3.7/dist-packages (4.1.2.30)\n",
            "Requirement already satisfied: pandas in /usr/local/lib/python3.7/dist-packages (1.3.5)\n",
            "Requirement already satisfied: scikit-learn in /usr/local/lib/python3.7/dist-packages (1.0.2)\n",
            "Requirement already satisfied: opencv-contrib-python in /usr/local/lib/python3.7/dist-packages (from mediapipe) (4.1.2.30)\n",
            "Requirement already satisfied: numpy in /usr/local/lib/python3.7/dist-packages (from mediapipe) (1.21.6)\n",
            "Requirement already satisfied: attrs>=19.1.0 in /usr/local/lib/python3.7/dist-packages (from mediapipe) (21.4.0)\n",
            "Requirement already satisfied: absl-py in /usr/local/lib/python3.7/dist-packages (from mediapipe) (1.1.0)\n",
            "Requirement already satisfied: matplotlib in /usr/local/lib/python3.7/dist-packages (from mediapipe) (3.2.2)\n",
            "Requirement already satisfied: protobuf>=3.11.4 in /usr/local/lib/python3.7/dist-packages (from mediapipe) (3.17.3)\n",
            "Requirement already satisfied: six>=1.9 in /usr/local/lib/python3.7/dist-packages (from protobuf>=3.11.4->mediapipe) (1.15.0)\n",
            "Requirement already satisfied: pytz>=2017.3 in /usr/local/lib/python3.7/dist-packages (from pandas) (2022.1)\n",
            "Requirement already satisfied: python-dateutil>=2.7.3 in /usr/local/lib/python3.7/dist-packages (from pandas) (2.8.2)\n",
            "Requirement already satisfied: threadpoolctl>=2.0.0 in /usr/local/lib/python3.7/dist-packages (from scikit-learn) (3.1.0)\n",
            "Requirement already satisfied: joblib>=0.11 in /usr/local/lib/python3.7/dist-packages (from scikit-learn) (1.1.0)\n",
            "Requirement already satisfied: scipy>=1.1.0 in /usr/local/lib/python3.7/dist-packages (from scikit-learn) (1.4.1)\n",
            "Requirement already satisfied: pyparsing!=2.0.4,!=2.1.2,!=2.1.6,>=2.0.1 in /usr/local/lib/python3.7/dist-packages (from matplotlib->mediapipe) (3.0.9)\n",
            "Requirement already satisfied: cycler>=0.10 in /usr/local/lib/python3.7/dist-packages (from matplotlib->mediapipe) (0.11.0)\n",
            "Requirement already satisfied: kiwisolver>=1.0.1 in /usr/local/lib/python3.7/dist-packages (from matplotlib->mediapipe) (1.4.3)\n",
            "Requirement already satisfied: typing-extensions in /usr/local/lib/python3.7/dist-packages (from kiwisolver>=1.0.1->matplotlib->mediapipe) (4.1.1)\n",
            "Installing collected packages: mediapipe\n",
            "Successfully installed mediapipe-0.8.10\n"
          ]
        }
      ],
      "source": [
        "!pip install mediapipe opencv-python pandas scikit-learn"
      ]
    },
    {
      "cell_type": "code",
      "source": [
        ""
      ],
      "metadata": {
        "id": "Ok2IJOIZHKOb"
      },
      "execution_count": 3,
      "outputs": []
    },
    {
      "cell_type": "code",
      "source": [
        "# import the necessary packages\n",
        "\n",
        "from zipfile import ZipFile\n",
        "from matplotlib import pyplot as plt\n",
        "from imutils import face_utils\n",
        "import numpy as np\n",
        "import argparse\n",
        "import imutils\n",
        "import mediapipe as mp\n",
        "import os\n",
        "import sys\n",
        "import os,cv2,math,glob,random\n",
        "import scipy.io as sio\n",
        "from math import cos, sin\n",
        "from pathlib import Path\n",
        "import pandas as pd\n",
        "import warnings\n",
        "warnings.filterwarnings('ignore')\n",
        "from google.colab.patches import cv2_imshow\n",
        "from sklearn.model_selection import train_test_split\n"
      ],
      "metadata": {
        "id": "_m4Je4xzuXQg"
      },
      "execution_count": 4,
      "outputs": []
    },
    {
      "cell_type": "code",
      "source": [
        "!wget  http://www.cbsr.ia.ac.cn/users/xiangyuzhu/projects/3DDFA/Database/AFLW2000-3D.zip\n",
        "\n"
      ],
      "metadata": {
        "colab": {
          "base_uri": "https://localhost:8080/"
        },
        "id": "as51n78BwYJb",
        "outputId": "31818c9e-cb1f-4bc6-91aa-79aa454f6c78"
      },
      "execution_count": 5,
      "outputs": [
        {
          "output_type": "stream",
          "name": "stdout",
          "text": [
            "--2022-06-17 19:12:11--  http://www.cbsr.ia.ac.cn/users/xiangyuzhu/projects/3DDFA/Database/AFLW2000-3D.zip\n",
            "Resolving www.cbsr.ia.ac.cn (www.cbsr.ia.ac.cn)... 159.226.21.60\n",
            "Connecting to www.cbsr.ia.ac.cn (www.cbsr.ia.ac.cn)|159.226.21.60|:80... connected.\n",
            "HTTP request sent, awaiting response... 200 OK\n",
            "Length: 87413900 (83M) [application/x-zip-compressed]\n",
            "Saving to: ‘AFLW2000-3D.zip’\n",
            "\n",
            "AFLW2000-3D.zip     100%[===================>]  83.36M   285KB/s    in 5m 6s   \n",
            "\n",
            "2022-06-17 19:17:18 (279 KB/s) - ‘AFLW2000-3D.zip’ saved [87413900/87413900]\n",
            "\n"
          ]
        }
      ]
    },
    {
      "cell_type": "code",
      "source": [
        "# Loading AFLW2000 Data\n",
        "%%capture\n",
        "!unzip /content/AFLW2000-3D.zip"
      ],
      "metadata": {
        "id": "gU-QDQRJwdWT"
      },
      "execution_count": 6,
      "outputs": []
    },
    {
      "cell_type": "code",
      "source": [
        "mp_drawing = mp.solutions.drawing_utils # Drawing helpers\n",
        "mp_drawing_styles = mp.solutions.drawing_styles\n",
        "\n",
        "\n",
        "\n"
      ],
      "metadata": {
        "id": "NLEWQTQoHiUa"
      },
      "execution_count": 7,
      "outputs": []
    },
    {
      "cell_type": "code",
      "source": [
        "img_list= []\n",
        "img_mat = []\n",
        "for images in glob.glob('/content/AFLW2000/*.jpg'):\n",
        "   \n",
        "    # check if the image ends with png\n",
        "    img_list.append(images)\n",
        "\n",
        "img_list.sort()\n",
        "print(len(img_list))\n",
        "print(img_list[0:3])"
      ],
      "metadata": {
        "colab": {
          "base_uri": "https://localhost:8080/"
        },
        "id": "OpeI-72p-aJE",
        "outputId": "c953f32b-9ac6-4427-8d7e-34bf1231f5e5"
      },
      "execution_count": 8,
      "outputs": [
        {
          "output_type": "stream",
          "name": "stdout",
          "text": [
            "2000\n",
            "['/content/AFLW2000/image00002.jpg', '/content/AFLW2000/image00004.jpg', '/content/AFLW2000/image00006.jpg']\n"
          ]
        }
      ]
    },
    {
      "cell_type": "code",
      "source": [
        "img_mat = []\n",
        "for images in glob.glob('/content/AFLW2000/*.mat'):\n",
        "   \n",
        "    # check if the image ends with png\n",
        "    img_mat.append(images)\n",
        "\n",
        "img_mat.sort() \n",
        "print(len(img_mat))\n",
        "print(img_mat[0:3])"
      ],
      "metadata": {
        "colab": {
          "base_uri": "https://localhost:8080/"
        },
        "id": "WVp0yJWskGQ6",
        "outputId": "fb155a83-4230-4836-84b8-af9bfb64556b"
      },
      "execution_count": 9,
      "outputs": [
        {
          "output_type": "stream",
          "name": "stdout",
          "text": [
            "2000\n",
            "['/content/AFLW2000/image00002.mat', '/content/AFLW2000/image00004.mat', '/content/AFLW2000/image00006.mat']\n"
          ]
        }
      ]
    },
    {
      "cell_type": "code",
      "source": [
        "mp_face_mesh = mp.solutions.face_mesh\n",
        "mp_face_detection = mp.solutions.face_detection\n",
        "mp_holistic = mp.solutions.holistic \n"
      ],
      "metadata": {
        "id": "Ye8i8uAsuCmF"
      },
      "execution_count": 10,
      "outputs": []
    },
    {
      "cell_type": "code",
      "source": [
        "face_mesh = mp_face_mesh.FaceMesh(static_image_mode=True)\n",
        "holistic = mp_holistic.Holistic(min_detection_confidence=0.5, min_tracking_confidence=0.5)\n",
        "face_detection = mp_face_detection.FaceDetection(model_selection=1, min_detection_confidence=0.5)\n"
      ],
      "metadata": {
        "id": "Zey9JmxaQJw5"
      },
      "execution_count": 12,
      "outputs": []
    },
    {
      "cell_type": "code",
      "source": [
        "# Colab has a problem with holistic process"
      ],
      "metadata": {
        "id": "UHkA2qnJGqLJ"
      },
      "execution_count": 13,
      "outputs": []
    },
    {
      "cell_type": "code",
      "source": [
        "# array = np.array([np.linspace(1,936, num= 936)])\n",
        "# ypr_array = np.array([np.linspace(1,3, num= 3)])\n",
        "# for indx, img in enumerate(img_list):\n",
        "\n",
        "#         all_imgs = []\n",
        "#         all_ypr = []\n",
        "#         image = cv2.imread(img)\n",
        "#         image_height, image_width, _ = image.shape\n",
        "# #         Convert the BGR image to RGB before processing.\n",
        "#         results = holistic.process(cv2.cvtColor(image, cv2.COLOR_BGR2RGB))\n",
        "\n",
        "#         try:\n",
        "           \n",
        "#             face  = results.face_landmarks.landmark\n",
        "#             NoseX = results.pose_landmarks.landmark[mp_holistic.PoseLandmark.NOSE].x  *  image_width\n",
        "#             NoseY =results.pose_landmarks.landmark[mp_holistic.PoseLandmark.NOSE].y  * image_height\n",
        "#             LfeoX = results.pose_landmarks.landmark[mp_holistic.PoseLandmark.LEFT_EYE_OUTER].x * image_width\n",
        "#             LfeoY = results.pose_landmarks.landmark[mp_holistic.PoseLandmark.LEFT_EYE_OUTER].y * image_height\n",
        "            \n",
        "#             dist = math.dist([NoseX, NoseY], [LfeoX, LfeoY])\n",
        "        \n",
        "\n",
        "            \n",
        "#             face_row = list(np.array([[   ((landmark.x * image_width)-NoseX)/dist, \n",
        "#                                             ((landmark.y*image_height)-NoseY)/dist] for landmark in face]).flatten())\n",
        "            \n",
        "#             mat_file = sio.loadmat(img_mat[indx])\n",
        "#             # extracting the labels 3 angels\n",
        "#             pose_para = mat_file[\"Pose_Para\"][0][:3]\n",
        "#             pitch = pose_para[0]\n",
        "#             yaw = pose_para[1]\n",
        "#             roll = pose_para[2] \n",
        "#             all_ypr.append(pitch)\n",
        "#             all_ypr.append(yaw)\n",
        "#             all_ypr.append(roll)\n",
        "#             all_ypr_array = np.array(all_ypr)\n",
        "#             ypr_array = np.vstack([ypr_array,all_ypr_array.T])\n",
        "\n",
        "#             # with open('landmarks_data.csv', mode='a', newline='') as f:\n",
        "#             #     csv_writer = csv.writer(f, delimiter=',', quotechar='\"', quoting=csv.QUOTE_MINIMAL)\n",
        "#             #     csv_writer.writerow(face_row) \n",
        "                \n",
        "#         except:\n",
        "#             pass\n",
        "        "
      ],
      "metadata": {
        "id": "j1X89HGKz6pY"
      },
      "execution_count": 15,
      "outputs": []
    },
    {
      "cell_type": "code",
      "source": [
        "image = cv2.imread(img_list[0])"
      ],
      "metadata": {
        "id": "d8v3b6ofHGSa"
      },
      "execution_count": 16,
      "outputs": []
    },
    {
      "cell_type": "code",
      "source": [
        "image.shape"
      ],
      "metadata": {
        "colab": {
          "base_uri": "https://localhost:8080/"
        },
        "id": "plWrR2qCHIxy",
        "outputId": "f3a732ed-8613-4e2e-80a2-de3ef37d7e5a"
      },
      "execution_count": 18,
      "outputs": [
        {
          "output_type": "execute_result",
          "data": {
            "text/plain": [
              "(450, 450, 3)"
            ]
          },
          "metadata": {},
          "execution_count": 18
        }
      ]
    },
    {
      "cell_type": "code",
      "source": [
        "array = np.array([np.linspace(1,936, num= 936)])\n",
        "ypr_array = np.array([np.linspace(1,3, num= 3)])\n",
        "for indx , img in enumerate(img_list) :\n",
        "  \n",
        "  all_imgs = []\n",
        "  all_ypr = []\n",
        "  image = cv2.imread(img)\n",
        "  image = imutils.resize(image, width=450)\n",
        "  # cv2_imshow(image)\n",
        "  result = face_mesh.process(cv2.cvtColor(image, cv2.COLOR_BGR2RGB))\n",
        "  face = result.multi_face_landmarks\n",
        "\n",
        "  try:\n",
        "    for landm in face[0].landmark:\n",
        "      x = landm.x\n",
        "      y = landm.y\n",
        "      # note: the x and y values are Normalized from 0 to 1 and we need to denormalize them\n",
        "      relative_x = int(x * image.shape [1])\n",
        "      relative_y = int(y * image.shape [0])\n",
        "      all_imgs.append(np.array([relative_x]))\n",
        "      all_imgs.append(np.array([relative_y]))\n",
        "    all_imgs_arr = np.array(all_imgs)\n",
        "    array = np.vstack([array,all_imgs_arr.T])\n",
        "    \n",
        "\n",
        "    mat_file = sio.loadmat(img_mat[indx])\n",
        "    # extracting the labels 3 angels\n",
        "    pose_para = mat_file[\"Pose_Para\"][0][:3]\n",
        "    pitch = pose_para[0]\n",
        "    yaw = pose_para[1]\n",
        "    roll = pose_para[2] \n",
        "    all_ypr.append(pitch)\n",
        "    all_ypr.append(yaw)\n",
        "    all_ypr.append(roll)\n",
        "    all_ypr_array = np.array(all_ypr)\n",
        "    ypr_array = np.vstack([ypr_array,all_ypr_array.T])\n",
        "\n",
        "\n",
        "  except:\n",
        "    pass\n"
      ],
      "metadata": {
        "id": "uvK_z2meQaQk"
      },
      "execution_count": 25,
      "outputs": []
    },
    {
      "cell_type": "code",
      "source": [
        "array.shape"
      ],
      "metadata": {
        "colab": {
          "base_uri": "https://localhost:8080/"
        },
        "id": "SX8ecFwtgOkY",
        "outputId": "38115713-f1b3-4ad2-8964-13abde33d0a8"
      },
      "execution_count": 26,
      "outputs": [
        {
          "output_type": "execute_result",
          "data": {
            "text/plain": [
              "(1854, 936)"
            ]
          },
          "metadata": {},
          "execution_count": 26
        }
      ]
    },
    {
      "cell_type": "code",
      "source": [
        "ypr_array.shape"
      ],
      "metadata": {
        "colab": {
          "base_uri": "https://localhost:8080/"
        },
        "id": "3PvRW-hLkxO3",
        "outputId": "402addf2-6a99-4719-eeb8-2f76cae48203"
      },
      "execution_count": 27,
      "outputs": [
        {
          "output_type": "execute_result",
          "data": {
            "text/plain": [
              "(1854, 3)"
            ]
          },
          "metadata": {},
          "execution_count": 27
        }
      ]
    },
    {
      "cell_type": "code",
      "source": [
        "array= np.delete(array, (0) , axis=0)\n",
        "df = pd.DataFrame(array)\n",
        "df.head(2)"
      ],
      "metadata": {
        "colab": {
          "base_uri": "https://localhost:8080/",
          "height": 205
        },
        "id": "4cnfG-tcC_eX",
        "outputId": "f6183d8f-e504-40b5-fae7-c8f75ca65d1f"
      },
      "execution_count": 28,
      "outputs": [
        {
          "output_type": "execute_result",
          "data": {
            "text/plain": [
              "     0      1      2      3      4      5      6      7      8      9    ...  \\\n",
              "0  218.0  309.0  220.0  287.0  220.0  291.0  215.0  253.0  220.0  279.0  ...   \n",
              "1  198.0  288.0  187.0  266.0  201.0  274.0  196.0  245.0  187.0  259.0  ...   \n",
              "\n",
              "     926    927    928    929    930    931    932    933    934    935  \n",
              "0  251.0  218.0  246.0  221.0  243.0  225.0  299.0  212.0  304.0  208.0  \n",
              "1  235.0  228.0  230.0  230.0  225.0  231.0  263.0  225.0  267.0  222.0  \n",
              "\n",
              "[2 rows x 936 columns]"
            ],
            "text/html": [
              "\n",
              "  <div id=\"df-6005bfbc-e2b6-438c-b8d2-3b8e84dc59c2\">\n",
              "    <div class=\"colab-df-container\">\n",
              "      <div>\n",
              "<style scoped>\n",
              "    .dataframe tbody tr th:only-of-type {\n",
              "        vertical-align: middle;\n",
              "    }\n",
              "\n",
              "    .dataframe tbody tr th {\n",
              "        vertical-align: top;\n",
              "    }\n",
              "\n",
              "    .dataframe thead th {\n",
              "        text-align: right;\n",
              "    }\n",
              "</style>\n",
              "<table border=\"1\" class=\"dataframe\">\n",
              "  <thead>\n",
              "    <tr style=\"text-align: right;\">\n",
              "      <th></th>\n",
              "      <th>0</th>\n",
              "      <th>1</th>\n",
              "      <th>2</th>\n",
              "      <th>3</th>\n",
              "      <th>4</th>\n",
              "      <th>5</th>\n",
              "      <th>6</th>\n",
              "      <th>7</th>\n",
              "      <th>8</th>\n",
              "      <th>9</th>\n",
              "      <th>...</th>\n",
              "      <th>926</th>\n",
              "      <th>927</th>\n",
              "      <th>928</th>\n",
              "      <th>929</th>\n",
              "      <th>930</th>\n",
              "      <th>931</th>\n",
              "      <th>932</th>\n",
              "      <th>933</th>\n",
              "      <th>934</th>\n",
              "      <th>935</th>\n",
              "    </tr>\n",
              "  </thead>\n",
              "  <tbody>\n",
              "    <tr>\n",
              "      <th>0</th>\n",
              "      <td>218.0</td>\n",
              "      <td>309.0</td>\n",
              "      <td>220.0</td>\n",
              "      <td>287.0</td>\n",
              "      <td>220.0</td>\n",
              "      <td>291.0</td>\n",
              "      <td>215.0</td>\n",
              "      <td>253.0</td>\n",
              "      <td>220.0</td>\n",
              "      <td>279.0</td>\n",
              "      <td>...</td>\n",
              "      <td>251.0</td>\n",
              "      <td>218.0</td>\n",
              "      <td>246.0</td>\n",
              "      <td>221.0</td>\n",
              "      <td>243.0</td>\n",
              "      <td>225.0</td>\n",
              "      <td>299.0</td>\n",
              "      <td>212.0</td>\n",
              "      <td>304.0</td>\n",
              "      <td>208.0</td>\n",
              "    </tr>\n",
              "    <tr>\n",
              "      <th>1</th>\n",
              "      <td>198.0</td>\n",
              "      <td>288.0</td>\n",
              "      <td>187.0</td>\n",
              "      <td>266.0</td>\n",
              "      <td>201.0</td>\n",
              "      <td>274.0</td>\n",
              "      <td>196.0</td>\n",
              "      <td>245.0</td>\n",
              "      <td>187.0</td>\n",
              "      <td>259.0</td>\n",
              "      <td>...</td>\n",
              "      <td>235.0</td>\n",
              "      <td>228.0</td>\n",
              "      <td>230.0</td>\n",
              "      <td>230.0</td>\n",
              "      <td>225.0</td>\n",
              "      <td>231.0</td>\n",
              "      <td>263.0</td>\n",
              "      <td>225.0</td>\n",
              "      <td>267.0</td>\n",
              "      <td>222.0</td>\n",
              "    </tr>\n",
              "  </tbody>\n",
              "</table>\n",
              "<p>2 rows × 936 columns</p>\n",
              "</div>\n",
              "      <button class=\"colab-df-convert\" onclick=\"convertToInteractive('df-6005bfbc-e2b6-438c-b8d2-3b8e84dc59c2')\"\n",
              "              title=\"Convert this dataframe to an interactive table.\"\n",
              "              style=\"display:none;\">\n",
              "        \n",
              "  <svg xmlns=\"http://www.w3.org/2000/svg\" height=\"24px\"viewBox=\"0 0 24 24\"\n",
              "       width=\"24px\">\n",
              "    <path d=\"M0 0h24v24H0V0z\" fill=\"none\"/>\n",
              "    <path d=\"M18.56 5.44l.94 2.06.94-2.06 2.06-.94-2.06-.94-.94-2.06-.94 2.06-2.06.94zm-11 1L8.5 8.5l.94-2.06 2.06-.94-2.06-.94L8.5 2.5l-.94 2.06-2.06.94zm10 10l.94 2.06.94-2.06 2.06-.94-2.06-.94-.94-2.06-.94 2.06-2.06.94z\"/><path d=\"M17.41 7.96l-1.37-1.37c-.4-.4-.92-.59-1.43-.59-.52 0-1.04.2-1.43.59L10.3 9.45l-7.72 7.72c-.78.78-.78 2.05 0 2.83L4 21.41c.39.39.9.59 1.41.59.51 0 1.02-.2 1.41-.59l7.78-7.78 2.81-2.81c.8-.78.8-2.07 0-2.86zM5.41 20L4 18.59l7.72-7.72 1.47 1.35L5.41 20z\"/>\n",
              "  </svg>\n",
              "      </button>\n",
              "      \n",
              "  <style>\n",
              "    .colab-df-container {\n",
              "      display:flex;\n",
              "      flex-wrap:wrap;\n",
              "      gap: 12px;\n",
              "    }\n",
              "\n",
              "    .colab-df-convert {\n",
              "      background-color: #E8F0FE;\n",
              "      border: none;\n",
              "      border-radius: 50%;\n",
              "      cursor: pointer;\n",
              "      display: none;\n",
              "      fill: #1967D2;\n",
              "      height: 32px;\n",
              "      padding: 0 0 0 0;\n",
              "      width: 32px;\n",
              "    }\n",
              "\n",
              "    .colab-df-convert:hover {\n",
              "      background-color: #E2EBFA;\n",
              "      box-shadow: 0px 1px 2px rgba(60, 64, 67, 0.3), 0px 1px 3px 1px rgba(60, 64, 67, 0.15);\n",
              "      fill: #174EA6;\n",
              "    }\n",
              "\n",
              "    [theme=dark] .colab-df-convert {\n",
              "      background-color: #3B4455;\n",
              "      fill: #D2E3FC;\n",
              "    }\n",
              "\n",
              "    [theme=dark] .colab-df-convert:hover {\n",
              "      background-color: #434B5C;\n",
              "      box-shadow: 0px 1px 3px 1px rgba(0, 0, 0, 0.15);\n",
              "      filter: drop-shadow(0px 1px 2px rgba(0, 0, 0, 0.3));\n",
              "      fill: #FFFFFF;\n",
              "    }\n",
              "  </style>\n",
              "\n",
              "      <script>\n",
              "        const buttonEl =\n",
              "          document.querySelector('#df-6005bfbc-e2b6-438c-b8d2-3b8e84dc59c2 button.colab-df-convert');\n",
              "        buttonEl.style.display =\n",
              "          google.colab.kernel.accessAllowed ? 'block' : 'none';\n",
              "\n",
              "        async function convertToInteractive(key) {\n",
              "          const element = document.querySelector('#df-6005bfbc-e2b6-438c-b8d2-3b8e84dc59c2');\n",
              "          const dataTable =\n",
              "            await google.colab.kernel.invokeFunction('convertToInteractive',\n",
              "                                                     [key], {});\n",
              "          if (!dataTable) return;\n",
              "\n",
              "          const docLinkHtml = 'Like what you see? Visit the ' +\n",
              "            '<a target=\"_blank\" href=https://colab.research.google.com/notebooks/data_table.ipynb>data table notebook</a>'\n",
              "            + ' to learn more about interactive tables.';\n",
              "          element.innerHTML = '';\n",
              "          dataTable['output_type'] = 'display_data';\n",
              "          await google.colab.output.renderOutput(dataTable, element);\n",
              "          const docLink = document.createElement('div');\n",
              "          docLink.innerHTML = docLinkHtml;\n",
              "          element.appendChild(docLink);\n",
              "        }\n",
              "      </script>\n",
              "    </div>\n",
              "  </div>\n",
              "  "
            ]
          },
          "metadata": {},
          "execution_count": 28
        }
      ]
    },
    {
      "cell_type": "code",
      "source": [
        "len(df)"
      ],
      "metadata": {
        "colab": {
          "base_uri": "https://localhost:8080/"
        },
        "id": "GiB9YMPS5So9",
        "outputId": "e78a7352-8bb6-4f34-9860-037c031b7443"
      },
      "execution_count": 29,
      "outputs": [
        {
          "output_type": "execute_result",
          "data": {
            "text/plain": [
              "1853"
            ]
          },
          "metadata": {},
          "execution_count": 29
        }
      ]
    },
    {
      "cell_type": "code",
      "source": [
        "ypr_array= np.delete(ypr_array, (0) , axis=0)\n",
        "# columns = ['x1','y1','x2','y2','x3','y3','x4','y4','x5','y5']\n",
        "df_ypr = pd.DataFrame(ypr_array, columns=['pitch','yaw','roll'])\n",
        "df_ypr.head(2)"
      ],
      "metadata": {
        "colab": {
          "base_uri": "https://localhost:8080/",
          "height": 112
        },
        "id": "m44XQ1wL2on6",
        "outputId": "4ad42589-b0e4-4c0a-bd1e-bbd3c72b13d6"
      },
      "execution_count": 30,
      "outputs": [
        {
          "output_type": "execute_result",
          "data": {
            "text/plain": [
              "      pitch       yaw      roll\n",
              "0 -0.399231  0.018227  0.085676\n",
              "1  0.470065  1.189533  0.300959"
            ],
            "text/html": [
              "\n",
              "  <div id=\"df-0593c99b-86be-46b5-b3bf-d3732c795f8a\">\n",
              "    <div class=\"colab-df-container\">\n",
              "      <div>\n",
              "<style scoped>\n",
              "    .dataframe tbody tr th:only-of-type {\n",
              "        vertical-align: middle;\n",
              "    }\n",
              "\n",
              "    .dataframe tbody tr th {\n",
              "        vertical-align: top;\n",
              "    }\n",
              "\n",
              "    .dataframe thead th {\n",
              "        text-align: right;\n",
              "    }\n",
              "</style>\n",
              "<table border=\"1\" class=\"dataframe\">\n",
              "  <thead>\n",
              "    <tr style=\"text-align: right;\">\n",
              "      <th></th>\n",
              "      <th>pitch</th>\n",
              "      <th>yaw</th>\n",
              "      <th>roll</th>\n",
              "    </tr>\n",
              "  </thead>\n",
              "  <tbody>\n",
              "    <tr>\n",
              "      <th>0</th>\n",
              "      <td>-0.399231</td>\n",
              "      <td>0.018227</td>\n",
              "      <td>0.085676</td>\n",
              "    </tr>\n",
              "    <tr>\n",
              "      <th>1</th>\n",
              "      <td>0.470065</td>\n",
              "      <td>1.189533</td>\n",
              "      <td>0.300959</td>\n",
              "    </tr>\n",
              "  </tbody>\n",
              "</table>\n",
              "</div>\n",
              "      <button class=\"colab-df-convert\" onclick=\"convertToInteractive('df-0593c99b-86be-46b5-b3bf-d3732c795f8a')\"\n",
              "              title=\"Convert this dataframe to an interactive table.\"\n",
              "              style=\"display:none;\">\n",
              "        \n",
              "  <svg xmlns=\"http://www.w3.org/2000/svg\" height=\"24px\"viewBox=\"0 0 24 24\"\n",
              "       width=\"24px\">\n",
              "    <path d=\"M0 0h24v24H0V0z\" fill=\"none\"/>\n",
              "    <path d=\"M18.56 5.44l.94 2.06.94-2.06 2.06-.94-2.06-.94-.94-2.06-.94 2.06-2.06.94zm-11 1L8.5 8.5l.94-2.06 2.06-.94-2.06-.94L8.5 2.5l-.94 2.06-2.06.94zm10 10l.94 2.06.94-2.06 2.06-.94-2.06-.94-.94-2.06-.94 2.06-2.06.94z\"/><path d=\"M17.41 7.96l-1.37-1.37c-.4-.4-.92-.59-1.43-.59-.52 0-1.04.2-1.43.59L10.3 9.45l-7.72 7.72c-.78.78-.78 2.05 0 2.83L4 21.41c.39.39.9.59 1.41.59.51 0 1.02-.2 1.41-.59l7.78-7.78 2.81-2.81c.8-.78.8-2.07 0-2.86zM5.41 20L4 18.59l7.72-7.72 1.47 1.35L5.41 20z\"/>\n",
              "  </svg>\n",
              "      </button>\n",
              "      \n",
              "  <style>\n",
              "    .colab-df-container {\n",
              "      display:flex;\n",
              "      flex-wrap:wrap;\n",
              "      gap: 12px;\n",
              "    }\n",
              "\n",
              "    .colab-df-convert {\n",
              "      background-color: #E8F0FE;\n",
              "      border: none;\n",
              "      border-radius: 50%;\n",
              "      cursor: pointer;\n",
              "      display: none;\n",
              "      fill: #1967D2;\n",
              "      height: 32px;\n",
              "      padding: 0 0 0 0;\n",
              "      width: 32px;\n",
              "    }\n",
              "\n",
              "    .colab-df-convert:hover {\n",
              "      background-color: #E2EBFA;\n",
              "      box-shadow: 0px 1px 2px rgba(60, 64, 67, 0.3), 0px 1px 3px 1px rgba(60, 64, 67, 0.15);\n",
              "      fill: #174EA6;\n",
              "    }\n",
              "\n",
              "    [theme=dark] .colab-df-convert {\n",
              "      background-color: #3B4455;\n",
              "      fill: #D2E3FC;\n",
              "    }\n",
              "\n",
              "    [theme=dark] .colab-df-convert:hover {\n",
              "      background-color: #434B5C;\n",
              "      box-shadow: 0px 1px 3px 1px rgba(0, 0, 0, 0.15);\n",
              "      filter: drop-shadow(0px 1px 2px rgba(0, 0, 0, 0.3));\n",
              "      fill: #FFFFFF;\n",
              "    }\n",
              "  </style>\n",
              "\n",
              "      <script>\n",
              "        const buttonEl =\n",
              "          document.querySelector('#df-0593c99b-86be-46b5-b3bf-d3732c795f8a button.colab-df-convert');\n",
              "        buttonEl.style.display =\n",
              "          google.colab.kernel.accessAllowed ? 'block' : 'none';\n",
              "\n",
              "        async function convertToInteractive(key) {\n",
              "          const element = document.querySelector('#df-0593c99b-86be-46b5-b3bf-d3732c795f8a');\n",
              "          const dataTable =\n",
              "            await google.colab.kernel.invokeFunction('convertToInteractive',\n",
              "                                                     [key], {});\n",
              "          if (!dataTable) return;\n",
              "\n",
              "          const docLinkHtml = 'Like what you see? Visit the ' +\n",
              "            '<a target=\"_blank\" href=https://colab.research.google.com/notebooks/data_table.ipynb>data table notebook</a>'\n",
              "            + ' to learn more about interactive tables.';\n",
              "          element.innerHTML = '';\n",
              "          dataTable['output_type'] = 'display_data';\n",
              "          await google.colab.output.renderOutput(dataTable, element);\n",
              "          const docLink = document.createElement('div');\n",
              "          docLink.innerHTML = docLinkHtml;\n",
              "          element.appendChild(docLink);\n",
              "        }\n",
              "      </script>\n",
              "    </div>\n",
              "  </div>\n",
              "  "
            ]
          },
          "metadata": {},
          "execution_count": 30
        }
      ]
    },
    {
      "cell_type": "code",
      "source": [
        "len(df_ypr)"
      ],
      "metadata": {
        "colab": {
          "base_uri": "https://localhost:8080/"
        },
        "id": "BvzUuVVW5WnA",
        "outputId": "b4dc6a7d-b7cd-48f6-9fb2-ecec46f6869b"
      },
      "execution_count": 31,
      "outputs": [
        {
          "output_type": "execute_result",
          "data": {
            "text/plain": [
              "1853"
            ]
          },
          "metadata": {},
          "execution_count": 31
        }
      ]
    },
    {
      "cell_type": "code",
      "source": [
        "df_copy = df.copy()\n",
        "df_copy['yaw'] = df_ypr['yaw']\n",
        "df_copy['pitch'] = df_ypr['pitch']\n",
        "df_copy['roll'] = df_ypr['roll']\n",
        "df_copy.head(2)"
      ],
      "metadata": {
        "colab": {
          "base_uri": "https://localhost:8080/",
          "height": 205
        },
        "id": "ZJvSZs7s3Bkl",
        "outputId": "ba296861-4b6e-4176-a0c3-ec72a2aa3d6c"
      },
      "execution_count": 32,
      "outputs": [
        {
          "output_type": "execute_result",
          "data": {
            "text/plain": [
              "       0      1      2      3      4      5      6      7      8      9  ...  \\\n",
              "0  218.0  309.0  220.0  287.0  220.0  291.0  215.0  253.0  220.0  279.0  ...   \n",
              "1  198.0  288.0  187.0  266.0  201.0  274.0  196.0  245.0  187.0  259.0  ...   \n",
              "\n",
              "     929    930    931    932    933    934    935       yaw     pitch  \\\n",
              "0  221.0  243.0  225.0  299.0  212.0  304.0  208.0  0.018227 -0.399231   \n",
              "1  230.0  225.0  231.0  263.0  225.0  267.0  222.0  1.189533  0.470065   \n",
              "\n",
              "       roll  \n",
              "0  0.085676  \n",
              "1  0.300959  \n",
              "\n",
              "[2 rows x 939 columns]"
            ],
            "text/html": [
              "\n",
              "  <div id=\"df-c8b7340d-5c57-489e-a364-79c83f0c7e18\">\n",
              "    <div class=\"colab-df-container\">\n",
              "      <div>\n",
              "<style scoped>\n",
              "    .dataframe tbody tr th:only-of-type {\n",
              "        vertical-align: middle;\n",
              "    }\n",
              "\n",
              "    .dataframe tbody tr th {\n",
              "        vertical-align: top;\n",
              "    }\n",
              "\n",
              "    .dataframe thead th {\n",
              "        text-align: right;\n",
              "    }\n",
              "</style>\n",
              "<table border=\"1\" class=\"dataframe\">\n",
              "  <thead>\n",
              "    <tr style=\"text-align: right;\">\n",
              "      <th></th>\n",
              "      <th>0</th>\n",
              "      <th>1</th>\n",
              "      <th>2</th>\n",
              "      <th>3</th>\n",
              "      <th>4</th>\n",
              "      <th>5</th>\n",
              "      <th>6</th>\n",
              "      <th>7</th>\n",
              "      <th>8</th>\n",
              "      <th>9</th>\n",
              "      <th>...</th>\n",
              "      <th>929</th>\n",
              "      <th>930</th>\n",
              "      <th>931</th>\n",
              "      <th>932</th>\n",
              "      <th>933</th>\n",
              "      <th>934</th>\n",
              "      <th>935</th>\n",
              "      <th>yaw</th>\n",
              "      <th>pitch</th>\n",
              "      <th>roll</th>\n",
              "    </tr>\n",
              "  </thead>\n",
              "  <tbody>\n",
              "    <tr>\n",
              "      <th>0</th>\n",
              "      <td>218.0</td>\n",
              "      <td>309.0</td>\n",
              "      <td>220.0</td>\n",
              "      <td>287.0</td>\n",
              "      <td>220.0</td>\n",
              "      <td>291.0</td>\n",
              "      <td>215.0</td>\n",
              "      <td>253.0</td>\n",
              "      <td>220.0</td>\n",
              "      <td>279.0</td>\n",
              "      <td>...</td>\n",
              "      <td>221.0</td>\n",
              "      <td>243.0</td>\n",
              "      <td>225.0</td>\n",
              "      <td>299.0</td>\n",
              "      <td>212.0</td>\n",
              "      <td>304.0</td>\n",
              "      <td>208.0</td>\n",
              "      <td>0.018227</td>\n",
              "      <td>-0.399231</td>\n",
              "      <td>0.085676</td>\n",
              "    </tr>\n",
              "    <tr>\n",
              "      <th>1</th>\n",
              "      <td>198.0</td>\n",
              "      <td>288.0</td>\n",
              "      <td>187.0</td>\n",
              "      <td>266.0</td>\n",
              "      <td>201.0</td>\n",
              "      <td>274.0</td>\n",
              "      <td>196.0</td>\n",
              "      <td>245.0</td>\n",
              "      <td>187.0</td>\n",
              "      <td>259.0</td>\n",
              "      <td>...</td>\n",
              "      <td>230.0</td>\n",
              "      <td>225.0</td>\n",
              "      <td>231.0</td>\n",
              "      <td>263.0</td>\n",
              "      <td>225.0</td>\n",
              "      <td>267.0</td>\n",
              "      <td>222.0</td>\n",
              "      <td>1.189533</td>\n",
              "      <td>0.470065</td>\n",
              "      <td>0.300959</td>\n",
              "    </tr>\n",
              "  </tbody>\n",
              "</table>\n",
              "<p>2 rows × 939 columns</p>\n",
              "</div>\n",
              "      <button class=\"colab-df-convert\" onclick=\"convertToInteractive('df-c8b7340d-5c57-489e-a364-79c83f0c7e18')\"\n",
              "              title=\"Convert this dataframe to an interactive table.\"\n",
              "              style=\"display:none;\">\n",
              "        \n",
              "  <svg xmlns=\"http://www.w3.org/2000/svg\" height=\"24px\"viewBox=\"0 0 24 24\"\n",
              "       width=\"24px\">\n",
              "    <path d=\"M0 0h24v24H0V0z\" fill=\"none\"/>\n",
              "    <path d=\"M18.56 5.44l.94 2.06.94-2.06 2.06-.94-2.06-.94-.94-2.06-.94 2.06-2.06.94zm-11 1L8.5 8.5l.94-2.06 2.06-.94-2.06-.94L8.5 2.5l-.94 2.06-2.06.94zm10 10l.94 2.06.94-2.06 2.06-.94-2.06-.94-.94-2.06-.94 2.06-2.06.94z\"/><path d=\"M17.41 7.96l-1.37-1.37c-.4-.4-.92-.59-1.43-.59-.52 0-1.04.2-1.43.59L10.3 9.45l-7.72 7.72c-.78.78-.78 2.05 0 2.83L4 21.41c.39.39.9.59 1.41.59.51 0 1.02-.2 1.41-.59l7.78-7.78 2.81-2.81c.8-.78.8-2.07 0-2.86zM5.41 20L4 18.59l7.72-7.72 1.47 1.35L5.41 20z\"/>\n",
              "  </svg>\n",
              "      </button>\n",
              "      \n",
              "  <style>\n",
              "    .colab-df-container {\n",
              "      display:flex;\n",
              "      flex-wrap:wrap;\n",
              "      gap: 12px;\n",
              "    }\n",
              "\n",
              "    .colab-df-convert {\n",
              "      background-color: #E8F0FE;\n",
              "      border: none;\n",
              "      border-radius: 50%;\n",
              "      cursor: pointer;\n",
              "      display: none;\n",
              "      fill: #1967D2;\n",
              "      height: 32px;\n",
              "      padding: 0 0 0 0;\n",
              "      width: 32px;\n",
              "    }\n",
              "\n",
              "    .colab-df-convert:hover {\n",
              "      background-color: #E2EBFA;\n",
              "      box-shadow: 0px 1px 2px rgba(60, 64, 67, 0.3), 0px 1px 3px 1px rgba(60, 64, 67, 0.15);\n",
              "      fill: #174EA6;\n",
              "    }\n",
              "\n",
              "    [theme=dark] .colab-df-convert {\n",
              "      background-color: #3B4455;\n",
              "      fill: #D2E3FC;\n",
              "    }\n",
              "\n",
              "    [theme=dark] .colab-df-convert:hover {\n",
              "      background-color: #434B5C;\n",
              "      box-shadow: 0px 1px 3px 1px rgba(0, 0, 0, 0.15);\n",
              "      filter: drop-shadow(0px 1px 2px rgba(0, 0, 0, 0.3));\n",
              "      fill: #FFFFFF;\n",
              "    }\n",
              "  </style>\n",
              "\n",
              "      <script>\n",
              "        const buttonEl =\n",
              "          document.querySelector('#df-c8b7340d-5c57-489e-a364-79c83f0c7e18 button.colab-df-convert');\n",
              "        buttonEl.style.display =\n",
              "          google.colab.kernel.accessAllowed ? 'block' : 'none';\n",
              "\n",
              "        async function convertToInteractive(key) {\n",
              "          const element = document.querySelector('#df-c8b7340d-5c57-489e-a364-79c83f0c7e18');\n",
              "          const dataTable =\n",
              "            await google.colab.kernel.invokeFunction('convertToInteractive',\n",
              "                                                     [key], {});\n",
              "          if (!dataTable) return;\n",
              "\n",
              "          const docLinkHtml = 'Like what you see? Visit the ' +\n",
              "            '<a target=\"_blank\" href=https://colab.research.google.com/notebooks/data_table.ipynb>data table notebook</a>'\n",
              "            + ' to learn more about interactive tables.';\n",
              "          element.innerHTML = '';\n",
              "          dataTable['output_type'] = 'display_data';\n",
              "          await google.colab.output.renderOutput(dataTable, element);\n",
              "          const docLink = document.createElement('div');\n",
              "          docLink.innerHTML = docLinkHtml;\n",
              "          element.appendChild(docLink);\n",
              "        }\n",
              "      </script>\n",
              "    </div>\n",
              "  </div>\n",
              "  "
            ]
          },
          "metadata": {},
          "execution_count": 32
        }
      ]
    },
    {
      "cell_type": "code",
      "source": [
        "# features\n",
        "x= np.array(df)\n",
        "# pitch label\n",
        "y_p=df_ypr['pitch']\n",
        "# yaw label\n",
        "y_y=df_ypr['yaw']\n",
        "# roll label\n",
        "y_r=df_ypr['roll']\n"
      ],
      "metadata": {
        "id": "_Mz_4bbB4BU2"
      },
      "execution_count": 33,
      "outputs": []
    },
    {
      "cell_type": "code",
      "source": [
        "# PITCH \n",
        "\n",
        "X_train_p, X_test_p, y_train_p, y_test_p = train_test_split(x, y_p, test_size=0.2, random_state=42, shuffle= True)\n",
        "\n",
        "X_val_p, X_test_p, y_val_p, y_test_p = train_test_split(X_test_p, y_test_p, test_size=0.5, random_state=42, shuffle= True)"
      ],
      "metadata": {
        "id": "-iZLLPd3431H"
      },
      "execution_count": 200,
      "outputs": []
    },
    {
      "cell_type": "code",
      "source": [
        "# YAW \n",
        "\n",
        "X_train_y, X_test_y, y_train_y, y_test_y = train_test_split(x, y_y, test_size=0.2, shuffle=True,random_state=42)\n",
        "\n",
        "X_val_y, X_test_y, y_val_y, y_test_y = train_test_split(X_test_y, y_test_y, test_size=0.5, shuffle=True,random_state=42)\n"
      ],
      "metadata": {
        "id": "L-QUuBrm4tij"
      },
      "execution_count": 141,
      "outputs": []
    },
    {
      "cell_type": "code",
      "source": [
        "# Roll \n",
        "\n",
        "X_train_r, X_test_r, y_train_r, y_test_r = train_test_split(x, y_r, test_size=0.2,shuffle=True, random_state=42)\n",
        "\n",
        "X_val_r, X_test_r, y_val_r, y_test_r = train_test_split(X_test_r, y_test_r, test_size=0.5,shuffle=True, random_state=42)"
      ],
      "metadata": {
        "id": "wTEXgagXN-51"
      },
      "execution_count": 207,
      "outputs": []
    },
    {
      "cell_type": "code",
      "source": [
        "from sklearn.model_selection import train_test_split\n",
        "from sklearn.preprocessing import StandardScaler, RobustScaler, MinMaxScaler, MaxAbsScaler, QuantileTransformer, PowerTransformer, PolynomialFeatures\n",
        "from sklearn.decomposition import PCA\n",
        "from sklearn.linear_model import LinearRegression\n",
        "from sklearn.linear_model import Ridge , ridge_regression,Lasso\n",
        "from sklearn.multioutput import MultiOutputRegressor\n",
        "from sklearn.ensemble import RandomForestRegressor, VotingRegressor,BaggingRegressor,ExtraTreesRegressor\n",
        "from sklearn.pipeline import make_pipeline, FeatureUnion\n",
        "from sklearn.metrics import mean_squared_error, r2_score\n",
        "from sklearn.svm import SVR\n",
        "from sklearn.ensemble import GradientBoostingRegressor, AdaBoostRegressor\n",
        "from sklearn.preprocessing import StandardScaler, RobustScaler, MinMaxScaler, MaxAbsScaler\n",
        "from sklearn.tree import DecisionTreeRegressor\n",
        "from sklearn.metrics import mean_squared_error\n",
        "from sklearn.neighbors import KNeighborsRegressor\n",
        "from sklearn.metrics import accuracy_score \n",
        "from sklearn.linear_model import OrthogonalMatchingPursuit\n",
        "from sklearn.datasets import make_regression\n",
        "import sklearn.linear_model\n",
        "from sklearn.impute import KNNImputer\n",
        "from sklearn import metrics\n"
      ],
      "metadata": {
        "id": "bmyaSTQF5G98"
      },
      "execution_count": 143,
      "outputs": []
    },
    {
      "cell_type": "markdown",
      "source": [
        "# Yaw model "
      ],
      "metadata": {
        "id": "hxx_I4ZoMYOr"
      }
    },
    {
      "cell_type": "code",
      "source": [
        "\n",
        "rf_model = make_pipeline(StandardScaler(),PCA(n_components=100, whiten=True),RandomForestRegressor())\n",
        "rf_model.fit(X_train_y, y_train_y)\n",
        "rf_predict_test = rf_model.predict(X_test_y)"
      ],
      "metadata": {
        "id": "zBzR341F5s5J"
      },
      "execution_count": 144,
      "outputs": []
    },
    {
      "cell_type": "code",
      "source": [
        "# Test error\n",
        "score_test = round(rf_model.score(X_test_y, y_test_y), 4)\n",
        "mae_rf = metrics.mean_absolute_error(y_test_y, rf_predict_test)\n",
        "mse_rf = metrics.mean_squared_error(y_test_y, rf_predict_test)"
      ],
      "metadata": {
        "id": "lauk2YAW81S0"
      },
      "execution_count": 150,
      "outputs": []
    },
    {
      "cell_type": "code",
      "source": [
        "print(f\"Test score : {score_test}\")\n",
        "print(f\"mean_absolute_error  : {mae_rf}\")\n",
        "print(f\"mean_squared_error  : {mse_rf}\")"
      ],
      "metadata": {
        "colab": {
          "base_uri": "https://localhost:8080/"
        },
        "id": "NJq6Lp1oLvff",
        "outputId": "78567361-deb3-4543-973a-a00ad3fbbe85"
      },
      "execution_count": 224,
      "outputs": [
        {
          "output_type": "stream",
          "name": "stdout",
          "text": [
            "Test score : 0.9494\n",
            "mean_absolute_error  : 0.07750679889354539\n",
            "mean_squared_error  : 0.012835268721898255\n"
          ]
        }
      ]
    },
    {
      "cell_type": "code",
      "source": [
        "import pickle \n",
        "\n",
        "with open('yaw_model.pkl', 'wb') as f:\n",
        "    pickle.dump(rf_model, f)\n",
        "\n"
      ],
      "metadata": {
        "id": "kaIiXp1AUGLq"
      },
      "execution_count": 225,
      "outputs": []
    },
    {
      "cell_type": "code",
      "source": [
        ""
      ],
      "metadata": {
        "id": "xsQS9y4QUEx1"
      },
      "execution_count": null,
      "outputs": []
    },
    {
      "cell_type": "markdown",
      "source": [
        "# Pitch Model"
      ],
      "metadata": {
        "id": "JwQAfjlwMb6D"
      }
    },
    {
      "cell_type": "code",
      "source": [
        "\n",
        "rf_model_p = make_pipeline(RobustScaler(),PCA(n_components=0.99, whiten=True),RandomForestRegressor())\n",
        "rf_model_p.fit(X_train_p, y_train_p)\n",
        "rf_predict_test_p = rf_model_p.predict(X_test_p)"
      ],
      "metadata": {
        "id": "mk7cA3gZMegh"
      },
      "execution_count": null,
      "outputs": []
    },
    {
      "cell_type": "code",
      "source": [
        "\n",
        "# Test error\n",
        "score_test_p = round(rf_model_p.score(X_test_p, y_test_p), 4)\n",
        "mae_rf_p = metrics.mean_absolute_error(y_test_p, rf_predict_test_p)\n",
        "mse_rf_p = metrics.mean_squared_error(y_test_p, rf_predict_test_p)"
      ],
      "metadata": {
        "id": "DnSnF85BMegi"
      },
      "execution_count": null,
      "outputs": []
    },
    {
      "cell_type": "code",
      "source": [
        "print(f\"Test score : {score_test_p}\")\n",
        "print(f\"mean_absolute_error  : {mae_rf_p}\")\n",
        "print(f\"mean_squared_error  : {mse_rf_p}\")"
      ],
      "metadata": {
        "colab": {
          "base_uri": "https://localhost:8080/"
        },
        "outputId": "ae9ff7d5-733b-4086-8d06-34c56a84d51c",
        "id": "Hf2c0ihkMegi"
      },
      "execution_count": null,
      "outputs": [
        {
          "output_type": "stream",
          "name": "stdout",
          "text": [
            "Validation score : 0.4451\n",
            "Test score : 0.802\n",
            "mean_absolute_error  : 0.08216324800090855\n",
            "mean_squared_error  : 0.012748234842533514\n"
          ]
        }
      ]
    },
    {
      "cell_type": "code",
      "source": [
        "import pickle \n",
        "\n",
        "with open('pitch_model.pkl', 'wb') as f:\n",
        "    pickle.dump(rf_model_p, f)\n"
      ],
      "metadata": {
        "id": "TvYE-m71M-u6"
      },
      "execution_count": 226,
      "outputs": []
    },
    {
      "cell_type": "markdown",
      "source": [
        "# Roll Model"
      ],
      "metadata": {
        "id": "Tvo-W8WESykU"
      }
    },
    {
      "cell_type": "code",
      "source": [
        "\n",
        "rf_model_r = make_pipeline(RobustScaler(),PCA(n_components=100, whiten=True),RandomForestRegressor())\n",
        "rf_model_r.fit(X_train_r, y_train_r)\n",
        "rf_predict_test_r = rf_model_r.predict(X_test_r)"
      ],
      "metadata": {
        "id": "pBS_FE-2SykU"
      },
      "execution_count": 220,
      "outputs": []
    },
    {
      "cell_type": "code",
      "source": [
        "\n",
        "# Test error\n",
        "score_test_r = round(rf_model_r.score(X_test_r, y_test_r), 4)\n",
        "mae_rf_r = metrics.mean_absolute_error(y_test_r, rf_predict_test_r)\n",
        "mse_rf_r = metrics.mean_squared_error(y_test_r, rf_predict_test_r)"
      ],
      "metadata": {
        "id": "jusoMPTtSykV"
      },
      "execution_count": 221,
      "outputs": []
    },
    {
      "cell_type": "code",
      "source": [
        "print(f\"Test score : {score_test_r}\")\n",
        "print(f\"mean_absolute_error  : {mae_rf_r}\")\n",
        "print(f\"mean_squared_error  : {mse_rf_r}\")"
      ],
      "metadata": {
        "colab": {
          "base_uri": "https://localhost:8080/"
        },
        "outputId": "c84fe8b8-e126-4aca-c7b1-afef967c1607",
        "id": "ObWTbGVGSykV"
      },
      "execution_count": 222,
      "outputs": [
        {
          "output_type": "stream",
          "name": "stdout",
          "text": [
            "Test score : 0.811\n",
            "mean_absolute_error  : 0.07039624950712568\n",
            "mean_squared_error  : 0.018485500632624396\n"
          ]
        }
      ]
    },
    {
      "cell_type": "code",
      "source": [
        "import pickle \n",
        "\n",
        "with open('roll_model.pkl', 'wb') as f:\n",
        "    pickle.dump(rf_model_r, f)\n"
      ],
      "metadata": {
        "id": "Xc4a12ndSykV"
      },
      "execution_count": 227,
      "outputs": []
    },
    {
      "cell_type": "code",
      "source": [
        ""
      ],
      "metadata": {
        "id": "WcbpdYZYUU4c"
      },
      "execution_count": 229,
      "outputs": []
    },
    {
      "cell_type": "code",
      "source": [
        ""
      ],
      "metadata": {
        "id": "zrL7d9uvUvba"
      },
      "execution_count": 229,
      "outputs": []
    },
    {
      "cell_type": "code",
      "source": [
        ""
      ],
      "metadata": {
        "id": "MJQeTOpsUveh"
      },
      "execution_count": null,
      "outputs": []
    },
    {
      "cell_type": "code",
      "execution_count": 230,
      "metadata": {
        "id": "87ab6c21"
      },
      "outputs": [],
      "source": [
        "with open('yaw_model.pkl', 'rb') as f:\n",
        "    yaw_model = pickle.load(f)"
      ]
    },
    {
      "cell_type": "code",
      "execution_count": 231,
      "metadata": {
        "id": "c0bee972"
      },
      "outputs": [],
      "source": [
        "with open('pitch_model.pkl', 'rb') as f:\n",
        "    pitch_model = pickle.load(f)"
      ]
    },
    {
      "cell_type": "code",
      "execution_count": 232,
      "metadata": {
        "id": "1d66d9b2"
      },
      "outputs": [],
      "source": [
        "with open('roll_model.pkl', 'rb') as f:\n",
        "    roll_model = pickle.load(f)"
      ]
    },
    {
      "cell_type": "code",
      "source": [
        ""
      ],
      "metadata": {
        "id": "X3UgT1dPUk09"
      },
      "execution_count": 235,
      "outputs": []
    },
    {
      "cell_type": "code",
      "source": [
        "drawing_spec = mp_drawing.DrawingSpec(thickness=1, circle_radius=1)\n",
        "cap = cv2.VideoCapture(0)\n",
        "with mp_face_mesh.FaceMesh(\n",
        "    max_num_faces=1,\n",
        "    refine_landmarks=True,\n",
        "    min_detection_confidence=0.5,\n",
        "    min_tracking_confidence=0.5) as face_mesh:\n",
        "  while cap.isOpened():\n",
        "    success, image = cap.read()\n",
        "    if not success:\n",
        "      print(\"Ignoring empty camera frame.\")\n",
        "      # If loading a video, use 'break' instead of 'continue'.\n",
        "      continue\n",
        "\n",
        "    # To improve performance, optionally mark the image as not writeable to\n",
        "    # pass by reference.\n",
        "    image.flags.writeable = False\n",
        "    image = cv2.cvtColor(image, cv2.COLOR_BGR2RGB)\n",
        "    results = face_mesh.process(image)\n",
        "\n",
        "    # Draw the face mesh annotations on the image.\n",
        "    image.flags.writeable = True\n",
        "    image = cv2.cvtColor(image, cv2.COLOR_RGB2BGR)\n",
        "    if results.multi_face_landmarks:\n",
        "      for face_landmarks in results.multi_face_landmarks:\n",
        "        mp_drawing.draw_landmarks(\n",
        "            image=image,\n",
        "            landmark_list=face_landmarks,\n",
        "            connections=mp_face_mesh.FACEMESH_TESSELATION,\n",
        "            landmark_drawing_spec=None,\n",
        "            connection_drawing_spec=mp_drawing_styles\n",
        "            .get_default_face_mesh_tesselation_style())\n",
        "        mp_drawing.draw_landmarks(\n",
        "            image=image,\n",
        "            landmark_list=face_landmarks,\n",
        "            connections=mp_face_mesh.FACEMESH_CONTOURS,\n",
        "            landmark_drawing_spec=None,\n",
        "            connection_drawing_spec=mp_drawing_styles\n",
        "            .get_default_face_mesh_contours_style())\n",
        "        mp_drawing.draw_landmarks(\n",
        "            image=image,\n",
        "            landmark_list=face_landmarks,\n",
        "            connections=mp_face_mesh.FACEMESH_IRISES,\n",
        "            landmark_drawing_spec=None,\n",
        "            connection_drawing_spec=mp_drawing_styles\n",
        "            .get_default_face_mesh_iris_connections_style())\n",
        "    # Flip the image horizontally for a selfie-view display.\n",
        "    cv2.imshow('MediaPipe Face Mesh', cv2.flip(image, 1))\n",
        "    if cv2.waitKey(5) & 0xFF == 27:\n",
        "      break\n",
        "cap.release()"
      ],
      "metadata": {
        "id": "K-Ggbj2eUmZK"
      },
      "execution_count": 242,
      "outputs": []
    },
    {
      "cell_type": "code",
      "source": [
        ""
      ],
      "metadata": {
        "id": "LaQCWdSUbGEK"
      },
      "execution_count": null,
      "outputs": []
    }
  ]
}