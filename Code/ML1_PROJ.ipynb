{
  "nbformat": 4,
  "nbformat_minor": 0,
  "metadata": {
    "colab": {
      "name": "ML1_PROJ.ipynb",
      "provenance": [],
      "collapsed_sections": []
    },
    "kernelspec": {
      "name": "python3",
      "display_name": "Python 3"
    },
    "language_info": {
      "name": "python"
    }
  },
  "cells": [
    {
      "cell_type": "code",
      "execution_count": null,
      "metadata": {
        "colab": {
          "base_uri": "https://localhost:8080/"
        },
        "id": "nRkstwQHEyFC",
        "outputId": "37a87df0-b31c-4971-9df9-5cb9706a0b66"
      },
      "outputs": [
        {
          "output_type": "stream",
          "name": "stdout",
          "text": [
            "Looking in indexes: https://pypi.org/simple, https://us-python.pkg.dev/colab-wheels/public/simple/\n",
            "Requirement already satisfied: imutils in /usr/local/lib/python3.7/dist-packages (0.5.4)\n"
          ]
        }
      ],
      "source": [
        "!pip install --upgrade imutils"
      ]
    },
    {
      "cell_type": "code",
      "source": [
        "!pip install glob2"
      ],
      "metadata": {
        "colab": {
          "base_uri": "https://localhost:8080/"
        },
        "id": "qr2RE209XYuM",
        "outputId": "535716e3-bede-42b0-80c0-c72c655bdad7"
      },
      "execution_count": null,
      "outputs": [
        {
          "output_type": "stream",
          "name": "stdout",
          "text": [
            "Looking in indexes: https://pypi.org/simple, https://us-python.pkg.dev/colab-wheels/public/simple/\n",
            "Requirement already satisfied: glob2 in /usr/local/lib/python3.7/dist-packages (0.7)\n"
          ]
        }
      ]
    },
    {
      "cell_type": "code",
      "source": [
        "# import the necessary packages\n",
        "from PIL import Image, ImageFilter\n",
        "from pathlib import Path\n",
        "import glob\n",
        "from zipfile import ZipFile\n",
        "from matplotlib import pyplot as plt\n",
        "from imutils import face_utils\n",
        "import numpy as np\n",
        "import pandas as pd\n",
        "import argparse\n",
        "import imutils\n",
        "import dlib\n",
        "import cv2\n",
        "import os\n",
        "import sys\n",
        "\n"
      ],
      "metadata": {
        "id": "nxs2G2hVEzxd"
      },
      "execution_count": null,
      "outputs": []
    },
    {
      "cell_type": "code",
      "source": [
        "!wget http://dlib.net/files/shape_predictor_68_face_landmarks.dat.bz2\n"
      ],
      "metadata": {
        "colab": {
          "base_uri": "https://localhost:8080/"
        },
        "id": "kkkdcC7qE8z0",
        "outputId": "8e68ffaf-703f-4593-8f33-9f8362c9dd34"
      },
      "execution_count": null,
      "outputs": [
        {
          "output_type": "stream",
          "name": "stdout",
          "text": [
            "--2022-05-27 16:05:22--  http://dlib.net/files/shape_predictor_68_face_landmarks.dat.bz2\n",
            "Resolving dlib.net (dlib.net)... 107.180.26.78\n",
            "Connecting to dlib.net (dlib.net)|107.180.26.78|:80... connected.\n",
            "HTTP request sent, awaiting response... 200 OK\n",
            "Length: 64040097 (61M)\n",
            "Saving to: ‘shape_predictor_68_face_landmarks.dat.bz2’\n",
            "\n",
            "shape_predictor_68_ 100%[===================>]  61.07M  30.5MB/s    in 2.0s    \n",
            "\n",
            "2022-05-27 16:05:24 (30.5 MB/s) - ‘shape_predictor_68_face_landmarks.dat.bz2’ saved [64040097/64040097]\n",
            "\n"
          ]
        }
      ]
    },
    {
      "cell_type": "code",
      "source": [
        "!bzip2 -d  '/content/facial-landmarks/shape_predictor_68_face_landmarks.dat.bz2'\n"
      ],
      "metadata": {
        "colab": {
          "base_uri": "https://localhost:8080/"
        },
        "id": "QmmtSSAHa9rV",
        "outputId": "5613d775-5e09-4489-a152-c1b533d9a9f9"
      },
      "execution_count": null,
      "outputs": [
        {
          "output_type": "stream",
          "name": "stdout",
          "text": [
            "bzip2: Can't open input file /content/facial-landmarks/shape_predictor_68_face_landmarks.dat.bz2: No such file or directory.\n"
          ]
        }
      ]
    },
    {
      "cell_type": "code",
      "source": [
        "from google.colab import drive\n",
        "\n",
        "drive.mount('/content/drive')"
      ],
      "metadata": {
        "colab": {
          "base_uri": "https://localhost:8080/"
        },
        "id": "2okfbutztpTq",
        "outputId": "62a5c79b-99ce-48b2-93b4-cfea1cb77691"
      },
      "execution_count": null,
      "outputs": [
        {
          "output_type": "stream",
          "name": "stdout",
          "text": [
            "Mounted at /content/drive\n"
          ]
        }
      ]
    },
    {
      "cell_type": "code",
      "source": [
        "!unzip /content/drive/MyDrive/AFLW2000-3D.zip"
      ],
      "metadata": {
        "id": "hOcHrLbctp3T"
      },
      "execution_count": null,
      "outputs": []
    },
    {
      "cell_type": "code",
      "source": [
        "# with ZipFile('/content/AFLW2000_HPose.zip','r') as zipobj:\n",
        "#   zipobj.extractall()\n"
      ],
      "metadata": {
        "id": "dFj_haNiFC6T"
      },
      "execution_count": null,
      "outputs": []
    },
    {
      "cell_type": "code",
      "source": [
        "!wget https://pyimagesearch-code-downloads.s3-us-west-2.amazonaws.com/facial-landmarks/facial-landmarks.zip\n",
        "!unzip -qq facial-landmarks.zip\n",
        "%cd facial-landmarks"
      ],
      "metadata": {
        "colab": {
          "base_uri": "https://localhost:8080/"
        },
        "id": "X5xEpsD2Pvvy",
        "outputId": "cfa9d507-cb91-4936-ef4d-8d5f3dccad17"
      },
      "execution_count": null,
      "outputs": [
        {
          "output_type": "stream",
          "name": "stdout",
          "text": [
            "--2022-05-27 16:06:55--  https://pyimagesearch-code-downloads.s3-us-west-2.amazonaws.com/facial-landmarks/facial-landmarks.zip\n",
            "Resolving pyimagesearch-code-downloads.s3-us-west-2.amazonaws.com (pyimagesearch-code-downloads.s3-us-west-2.amazonaws.com)... 52.218.178.33\n",
            "Connecting to pyimagesearch-code-downloads.s3-us-west-2.amazonaws.com (pyimagesearch-code-downloads.s3-us-west-2.amazonaws.com)|52.218.178.33|:443... connected.\n",
            "HTTP request sent, awaiting response... 200 OK\n",
            "Length: 74572347 (71M) [binary/octet-stream]\n",
            "Saving to: ‘facial-landmarks.zip’\n",
            "\n",
            "facial-landmarks.zi 100%[===================>]  71.12M  27.6MB/s    in 2.6s    \n",
            "\n",
            "2022-05-27 16:06:58 (27.6 MB/s) - ‘facial-landmarks.zip’ saved [74572347/74572347]\n",
            "\n",
            "/content/facial-landmarks\n"
          ]
        }
      ]
    },
    {
      "cell_type": "code",
      "source": [
        "# predictor=dlib.shape_predictor('/content/facial-landmarks/shape_predictor_68_face_landmarks.dat')\n",
        "\n"
      ],
      "metadata": {
        "id": "XBVEeoznQDKv"
      },
      "execution_count": null,
      "outputs": []
    },
    {
      "cell_type": "code",
      "source": [
        "def plt_imshow(title, image):\n",
        "  # convert the image frame BGR to RGB color space and display it\n",
        "\timage = cv2.cvtColor(image, cv2.COLOR_BGR2RGB)\n",
        "\tplt.imshow(image)\n",
        "\tplt.title(title)\n",
        "\tplt.grid(False)\n",
        "\tplt.show()"
      ],
      "metadata": {
        "id": "nriKf7j3QNvH"
      },
      "execution_count": null,
      "outputs": []
    },
    {
      "cell_type": "code",
      "source": [
        "args = {\n",
        "\t\"shape_predictor\": \"shape_predictor_68_face_landmarks.dat\",\n",
        "\t\"image\": \"images/example_01.jpg\"\n",
        "}"
      ],
      "metadata": {
        "id": "DBxGVov0aBiC"
      },
      "execution_count": null,
      "outputs": []
    },
    {
      "cell_type": "code",
      "source": [
        "img_list_train= []\n",
        "\n",
        "for images in glob.glob('/content/facial-landmarks/AFLW2000/*.jpg'):\n",
        "   \n",
        "    # check if the image ends with png\n",
        "    img_list_train.append(images)\n",
        "\n",
        "img_list_train.sort()\n"
      ],
      "metadata": {
        "id": "KxYlH1pznWn_"
      },
      "execution_count": null,
      "outputs": []
    },
    {
      "cell_type": "code",
      "source": [
        "len(img_list_train)"
      ],
      "metadata": {
        "colab": {
          "base_uri": "https://localhost:8080/"
        },
        "id": "DH0sGQdEh3MD",
        "outputId": "19688d65-1b49-40c9-8fd6-dc6a3c304114"
      },
      "execution_count": null,
      "outputs": [
        {
          "output_type": "execute_result",
          "data": {
            "text/plain": [
              "2000"
            ]
          },
          "metadata": {},
          "execution_count": 235
        }
      ]
    },
    {
      "cell_type": "code",
      "source": [
        "# initialize dlib's face detector (HOG-based) and then create\n",
        "# the facial landmark predictor\n",
        "points_nums = [31, 37, 40, 43, 46]\n",
        "first_img = []\n",
        "detector = dlib.get_frontal_face_detector()\n",
        "predictor = dlib.shape_predictor(args[\"shape_predictor\"])\n",
        "\n",
        "# load the input image, resize it, and convert it to grayscale\n",
        "image = cv2.imread(img_list_train[0])\n",
        "image = imutils.resize(image, width=500)\n",
        "gray = cv2.cvtColor(image, cv2.COLOR_BGR2GRAY)\n",
        "\n",
        "# detect faces in the grayscale image\n",
        "rects = detector(gray, 1)\n",
        "\n"
      ],
      "metadata": {
        "id": "XPFaoBFLcw8Z"
      },
      "execution_count": null,
      "outputs": []
    },
    {
      "cell_type": "code",
      "source": [
        "# first_img = []\n",
        "\n",
        "# for (i, rect) in enumerate(rects):\n",
        "# \t# determine the facial landmarks for the face region, then\n",
        "# \t# convert the facial landmark (x, y)-coordinates to a NumPy\n",
        "# \t# array\n",
        "# \tshape = predictor(gray, rect)\n",
        " \n",
        "# for i in points_nums:\n",
        "#     first_img.append(np.array([shape.part(i).x]))\n",
        "#     first_img.append(np.array([shape.part(i).y]))\n",
        "\n",
        "# first_img_arr = np.array(first_img)\n",
        "# first_img_arr\n",
        "# df = pd.DataFrame(first_img_arr.T,columns = ['x1','y1','x2','y2','x3','y3','x4','y4','x5','y5'])\n",
        "# # df.insert(first_img_arr.T,)\n",
        "# df\n",
        "# # 0\t206\t328\t152\t161\t177\t198\t336\t182\t373\t216"
      ],
      "metadata": {
        "id": "QTj-ZORHQEea"
      },
      "execution_count": null,
      "outputs": []
    },
    {
      "cell_type": "code",
      "source": [
        "\n",
        "array = np.array([np.linspace(1,136, num= 136)])\n",
        "\n",
        "# load the input image, resize it, and convert it to grayscale\n",
        "for img in img_list_train :\n",
        "  all_imgs = []\n",
        "  image = cv2.imread(img)\n",
        "  image = imutils.resize(image, width=500)\n",
        "  gray = cv2.cvtColor(image, cv2.COLOR_BGR2GRAY)\n",
        "  # detect faces in the grayscale image\n",
        "  rects = detector(gray, 1)\n",
        "  for (i, rect) in enumerate(rects):\n",
        "    shape = predictor(gray, rect)\n",
        "\t  # shape_array = face_utils.shape_to_np(shape)\n",
        "  for i in range(0,68):\n",
        "    all_imgs.append(np.array([shape.part(i).x]))\n",
        "    all_imgs.append(np.array([shape.part(i).y])) \n",
        "  all_imgs_arr = np.array(all_imgs)\n",
        "  array = np.vstack([array,all_imgs_arr.T])\n",
        "\n"
      ],
      "metadata": {
        "id": "QUGN6NzFHgZ9"
      },
      "execution_count": null,
      "outputs": []
    },
    {
      "cell_type": "code",
      "source": [
        "array= np.delete(array, (0) , axis=0)\n",
        "# columns = ['x1','y1','x2','y2','x3','y3','x4','y4','x5','y5']\n",
        "df = pd.DataFrame(array)\n",
        "df.info()\n"
      ],
      "metadata": {
        "colab": {
          "base_uri": "https://localhost:8080/"
        },
        "id": "JNK8dLBncekf",
        "outputId": "9394629c-cc74-4730-d96b-658665fe72e1"
      },
      "execution_count": null,
      "outputs": [
        {
          "output_type": "stream",
          "name": "stdout",
          "text": [
            "<class 'pandas.core.frame.DataFrame'>\n",
            "RangeIndex: 2000 entries, 0 to 1999\n",
            "Columns: 136 entries, 0 to 135\n",
            "dtypes: float64(136)\n",
            "memory usage: 2.1 MB\n"
          ]
        }
      ]
    },
    {
      "cell_type": "code",
      "source": [
        "# # loop over the face detections\n",
        "# for (i, rect) in enumerate(rects):\n",
        "# \t# determine the facial landmarks for the face region, then\n",
        "# \t# convert the facial landmark (x, y)-coordinates to a NumPy\n",
        "# \t# array\n",
        "\t# shape = predictor(gray, rect)\n",
        "\t# shape_array = face_utils.shape_to_np(shape)\n",
        "# \tprint(shape.part(4))\n",
        "\t\n",
        "\n",
        "# \t# convert dlib's rectangle to a OpenCV-style bounding box\n",
        "# \t# [i.e., (x, y, w, h)], then draw the face bounding box\n",
        "# \t# (x, y, w, h) = face_utils.rect_to_bb(rect)\n",
        "# \t# cv2.rectangle(image, (x, y), (x + w, y + h), (0, 255, 0), 2)\n",
        "\n",
        "# \t# show the face number\n",
        "# \t# cv2.putText(image, \"Face #{}\".format(i + 1), (x - 10, y - 10),\n",
        "# \t# cv2.FONT_HERSHEY_SIMPLEX, 0.5, (0, 255, 0), 2)\n",
        "\n",
        "# \t# loop over the (x, y)-coordinates for the facial landmarks\n",
        "# \t# and draw them on the image\n",
        "# \tx_y_list = []\n",
        "# \tfor (x, y) in shape_array:\n",
        "# \t\tcv2.circle(image, (x, y), 3, (0, 0, 255), -1)\n",
        "# # show the output image with the face detections + facial landmarks\n",
        "# print(shape_array)\n",
        "\n",
        "# plt_imshow(\"Output\", image)"
      ],
      "metadata": {
        "id": "Z5vgyjGNcbu6"
      },
      "execution_count": null,
      "outputs": []
    },
    {
      "cell_type": "code",
      "source": [
        "dff = pd.read_csv('/content/angle_data.csv')\n",
        "dff_copy = dff.drop(columns=['Unnamed: 0', 'img_name'])\n",
        "dff_copy.info()\n"
      ],
      "metadata": {
        "colab": {
          "base_uri": "https://localhost:8080/"
        },
        "id": "y95SJPflJs_0",
        "outputId": "3b1d4355-8818-42cb-ceb6-87d88ca1a81b"
      },
      "execution_count": null,
      "outputs": [
        {
          "output_type": "stream",
          "name": "stdout",
          "text": [
            "<class 'pandas.core.frame.DataFrame'>\n",
            "RangeIndex: 2000 entries, 0 to 1999\n",
            "Data columns (total 3 columns):\n",
            " #   Column  Non-Null Count  Dtype  \n",
            "---  ------  --------------  -----  \n",
            " 0   pitch   2000 non-null   float64\n",
            " 1   yaw     2000 non-null   float64\n",
            " 2   roll    2000 non-null   float64\n",
            "dtypes: float64(3)\n",
            "memory usage: 47.0 KB\n"
          ]
        }
      ]
    },
    {
      "cell_type": "code",
      "source": [
        "df_copy = df.copy()\n",
        "df_copy['yaw'] = dff_copy['yaw']\n",
        "df_copy['pitch'] = dff_copy['pitch']\n",
        "df_copy['roll'] = dff_copy['roll']\n",
        "df_copy.head()"
      ],
      "metadata": {
        "id": "MgXckE0ShLbb",
        "colab": {
          "base_uri": "https://localhost:8080/",
          "height": 235
        },
        "outputId": "88b2820d-137a-49f1-87ee-ba6217b046c8"
      },
      "execution_count": null,
      "outputs": [
        {
          "output_type": "execute_result",
          "data": {
            "text/plain": [
              "       0      1      2      3      4      5      6      7      8      9  ...  \\\n",
              "0  140.0  196.0  140.0  227.0  144.0  258.0  149.0  289.0  156.0  321.0  ...   \n",
              "1  209.0  249.0  204.0  264.0  201.0  282.0  202.0  301.0  205.0  320.0  ...   \n",
              "2  195.0  288.0  195.0  305.0  198.0  323.0  205.0  341.0  214.0  358.0  ...   \n",
              "3  169.0  279.0  176.0  302.0  186.0  323.0  201.0  344.0  218.0  363.0  ...   \n",
              "4  169.0  279.0  176.0  302.0  186.0  323.0  201.0  344.0  218.0  363.0  ...   \n",
              "\n",
              "     129    130    131    132    133    134    135        yaw      pitch  \\\n",
              "0  349.0  252.0  361.0  238.0  362.0  225.0  357.0   1.044306 -22.874239   \n",
              "1  339.0  231.0  339.0  226.0  338.0  223.0  338.0  68.155235  26.932741   \n",
              "2  340.0  245.0  355.0  240.0  356.0  234.0  355.0  50.485413 -10.579652   \n",
              "3  336.0  270.0  353.0  261.0  356.0  252.0  356.0  17.143373 -10.048456   \n",
              "4  336.0  270.0  353.0  261.0  356.0  252.0  356.0  68.640549 -50.544579   \n",
              "\n",
              "        roll  \n",
              "0   4.908885  \n",
              "1  17.243670  \n",
              "2 -13.570644  \n",
              "3 -21.392782  \n",
              "4 -59.207973  \n",
              "\n",
              "[5 rows x 139 columns]"
            ],
            "text/html": [
              "\n",
              "  <div id=\"df-ce100abb-79ef-4af0-9032-37837131ae46\">\n",
              "    <div class=\"colab-df-container\">\n",
              "      <div>\n",
              "<style scoped>\n",
              "    .dataframe tbody tr th:only-of-type {\n",
              "        vertical-align: middle;\n",
              "    }\n",
              "\n",
              "    .dataframe tbody tr th {\n",
              "        vertical-align: top;\n",
              "    }\n",
              "\n",
              "    .dataframe thead th {\n",
              "        text-align: right;\n",
              "    }\n",
              "</style>\n",
              "<table border=\"1\" class=\"dataframe\">\n",
              "  <thead>\n",
              "    <tr style=\"text-align: right;\">\n",
              "      <th></th>\n",
              "      <th>0</th>\n",
              "      <th>1</th>\n",
              "      <th>2</th>\n",
              "      <th>3</th>\n",
              "      <th>4</th>\n",
              "      <th>5</th>\n",
              "      <th>6</th>\n",
              "      <th>7</th>\n",
              "      <th>8</th>\n",
              "      <th>9</th>\n",
              "      <th>...</th>\n",
              "      <th>129</th>\n",
              "      <th>130</th>\n",
              "      <th>131</th>\n",
              "      <th>132</th>\n",
              "      <th>133</th>\n",
              "      <th>134</th>\n",
              "      <th>135</th>\n",
              "      <th>yaw</th>\n",
              "      <th>pitch</th>\n",
              "      <th>roll</th>\n",
              "    </tr>\n",
              "  </thead>\n",
              "  <tbody>\n",
              "    <tr>\n",
              "      <th>0</th>\n",
              "      <td>140.0</td>\n",
              "      <td>196.0</td>\n",
              "      <td>140.0</td>\n",
              "      <td>227.0</td>\n",
              "      <td>144.0</td>\n",
              "      <td>258.0</td>\n",
              "      <td>149.0</td>\n",
              "      <td>289.0</td>\n",
              "      <td>156.0</td>\n",
              "      <td>321.0</td>\n",
              "      <td>...</td>\n",
              "      <td>349.0</td>\n",
              "      <td>252.0</td>\n",
              "      <td>361.0</td>\n",
              "      <td>238.0</td>\n",
              "      <td>362.0</td>\n",
              "      <td>225.0</td>\n",
              "      <td>357.0</td>\n",
              "      <td>1.044306</td>\n",
              "      <td>-22.874239</td>\n",
              "      <td>4.908885</td>\n",
              "    </tr>\n",
              "    <tr>\n",
              "      <th>1</th>\n",
              "      <td>209.0</td>\n",
              "      <td>249.0</td>\n",
              "      <td>204.0</td>\n",
              "      <td>264.0</td>\n",
              "      <td>201.0</td>\n",
              "      <td>282.0</td>\n",
              "      <td>202.0</td>\n",
              "      <td>301.0</td>\n",
              "      <td>205.0</td>\n",
              "      <td>320.0</td>\n",
              "      <td>...</td>\n",
              "      <td>339.0</td>\n",
              "      <td>231.0</td>\n",
              "      <td>339.0</td>\n",
              "      <td>226.0</td>\n",
              "      <td>338.0</td>\n",
              "      <td>223.0</td>\n",
              "      <td>338.0</td>\n",
              "      <td>68.155235</td>\n",
              "      <td>26.932741</td>\n",
              "      <td>17.243670</td>\n",
              "    </tr>\n",
              "    <tr>\n",
              "      <th>2</th>\n",
              "      <td>195.0</td>\n",
              "      <td>288.0</td>\n",
              "      <td>195.0</td>\n",
              "      <td>305.0</td>\n",
              "      <td>198.0</td>\n",
              "      <td>323.0</td>\n",
              "      <td>205.0</td>\n",
              "      <td>341.0</td>\n",
              "      <td>214.0</td>\n",
              "      <td>358.0</td>\n",
              "      <td>...</td>\n",
              "      <td>340.0</td>\n",
              "      <td>245.0</td>\n",
              "      <td>355.0</td>\n",
              "      <td>240.0</td>\n",
              "      <td>356.0</td>\n",
              "      <td>234.0</td>\n",
              "      <td>355.0</td>\n",
              "      <td>50.485413</td>\n",
              "      <td>-10.579652</td>\n",
              "      <td>-13.570644</td>\n",
              "    </tr>\n",
              "    <tr>\n",
              "      <th>3</th>\n",
              "      <td>169.0</td>\n",
              "      <td>279.0</td>\n",
              "      <td>176.0</td>\n",
              "      <td>302.0</td>\n",
              "      <td>186.0</td>\n",
              "      <td>323.0</td>\n",
              "      <td>201.0</td>\n",
              "      <td>344.0</td>\n",
              "      <td>218.0</td>\n",
              "      <td>363.0</td>\n",
              "      <td>...</td>\n",
              "      <td>336.0</td>\n",
              "      <td>270.0</td>\n",
              "      <td>353.0</td>\n",
              "      <td>261.0</td>\n",
              "      <td>356.0</td>\n",
              "      <td>252.0</td>\n",
              "      <td>356.0</td>\n",
              "      <td>17.143373</td>\n",
              "      <td>-10.048456</td>\n",
              "      <td>-21.392782</td>\n",
              "    </tr>\n",
              "    <tr>\n",
              "      <th>4</th>\n",
              "      <td>169.0</td>\n",
              "      <td>279.0</td>\n",
              "      <td>176.0</td>\n",
              "      <td>302.0</td>\n",
              "      <td>186.0</td>\n",
              "      <td>323.0</td>\n",
              "      <td>201.0</td>\n",
              "      <td>344.0</td>\n",
              "      <td>218.0</td>\n",
              "      <td>363.0</td>\n",
              "      <td>...</td>\n",
              "      <td>336.0</td>\n",
              "      <td>270.0</td>\n",
              "      <td>353.0</td>\n",
              "      <td>261.0</td>\n",
              "      <td>356.0</td>\n",
              "      <td>252.0</td>\n",
              "      <td>356.0</td>\n",
              "      <td>68.640549</td>\n",
              "      <td>-50.544579</td>\n",
              "      <td>-59.207973</td>\n",
              "    </tr>\n",
              "  </tbody>\n",
              "</table>\n",
              "<p>5 rows × 139 columns</p>\n",
              "</div>\n",
              "      <button class=\"colab-df-convert\" onclick=\"convertToInteractive('df-ce100abb-79ef-4af0-9032-37837131ae46')\"\n",
              "              title=\"Convert this dataframe to an interactive table.\"\n",
              "              style=\"display:none;\">\n",
              "        \n",
              "  <svg xmlns=\"http://www.w3.org/2000/svg\" height=\"24px\"viewBox=\"0 0 24 24\"\n",
              "       width=\"24px\">\n",
              "    <path d=\"M0 0h24v24H0V0z\" fill=\"none\"/>\n",
              "    <path d=\"M18.56 5.44l.94 2.06.94-2.06 2.06-.94-2.06-.94-.94-2.06-.94 2.06-2.06.94zm-11 1L8.5 8.5l.94-2.06 2.06-.94-2.06-.94L8.5 2.5l-.94 2.06-2.06.94zm10 10l.94 2.06.94-2.06 2.06-.94-2.06-.94-.94-2.06-.94 2.06-2.06.94z\"/><path d=\"M17.41 7.96l-1.37-1.37c-.4-.4-.92-.59-1.43-.59-.52 0-1.04.2-1.43.59L10.3 9.45l-7.72 7.72c-.78.78-.78 2.05 0 2.83L4 21.41c.39.39.9.59 1.41.59.51 0 1.02-.2 1.41-.59l7.78-7.78 2.81-2.81c.8-.78.8-2.07 0-2.86zM5.41 20L4 18.59l7.72-7.72 1.47 1.35L5.41 20z\"/>\n",
              "  </svg>\n",
              "      </button>\n",
              "      \n",
              "  <style>\n",
              "    .colab-df-container {\n",
              "      display:flex;\n",
              "      flex-wrap:wrap;\n",
              "      gap: 12px;\n",
              "    }\n",
              "\n",
              "    .colab-df-convert {\n",
              "      background-color: #E8F0FE;\n",
              "      border: none;\n",
              "      border-radius: 50%;\n",
              "      cursor: pointer;\n",
              "      display: none;\n",
              "      fill: #1967D2;\n",
              "      height: 32px;\n",
              "      padding: 0 0 0 0;\n",
              "      width: 32px;\n",
              "    }\n",
              "\n",
              "    .colab-df-convert:hover {\n",
              "      background-color: #E2EBFA;\n",
              "      box-shadow: 0px 1px 2px rgba(60, 64, 67, 0.3), 0px 1px 3px 1px rgba(60, 64, 67, 0.15);\n",
              "      fill: #174EA6;\n",
              "    }\n",
              "\n",
              "    [theme=dark] .colab-df-convert {\n",
              "      background-color: #3B4455;\n",
              "      fill: #D2E3FC;\n",
              "    }\n",
              "\n",
              "    [theme=dark] .colab-df-convert:hover {\n",
              "      background-color: #434B5C;\n",
              "      box-shadow: 0px 1px 3px 1px rgba(0, 0, 0, 0.15);\n",
              "      filter: drop-shadow(0px 1px 2px rgba(0, 0, 0, 0.3));\n",
              "      fill: #FFFFFF;\n",
              "    }\n",
              "  </style>\n",
              "\n",
              "      <script>\n",
              "        const buttonEl =\n",
              "          document.querySelector('#df-ce100abb-79ef-4af0-9032-37837131ae46 button.colab-df-convert');\n",
              "        buttonEl.style.display =\n",
              "          google.colab.kernel.accessAllowed ? 'block' : 'none';\n",
              "\n",
              "        async function convertToInteractive(key) {\n",
              "          const element = document.querySelector('#df-ce100abb-79ef-4af0-9032-37837131ae46');\n",
              "          const dataTable =\n",
              "            await google.colab.kernel.invokeFunction('convertToInteractive',\n",
              "                                                     [key], {});\n",
              "          if (!dataTable) return;\n",
              "\n",
              "          const docLinkHtml = 'Like what you see? Visit the ' +\n",
              "            '<a target=\"_blank\" href=https://colab.research.google.com/notebooks/data_table.ipynb>data table notebook</a>'\n",
              "            + ' to learn more about interactive tables.';\n",
              "          element.innerHTML = '';\n",
              "          dataTable['output_type'] = 'display_data';\n",
              "          await google.colab.output.renderOutput(dataTable, element);\n",
              "          const docLink = document.createElement('div');\n",
              "          docLink.innerHTML = docLinkHtml;\n",
              "          element.appendChild(docLink);\n",
              "        }\n",
              "      </script>\n",
              "    </div>\n",
              "  </div>\n",
              "  "
            ]
          },
          "metadata": {},
          "execution_count": 344
        }
      ]
    },
    {
      "cell_type": "code",
      "source": [
        "X = np.array(df)\n",
        "y = np.array(dff_copy)\n"
      ],
      "metadata": {
        "id": "bstrkUKYeq7r"
      },
      "execution_count": null,
      "outputs": []
    },
    {
      "cell_type": "markdown",
      "source": [
        "# Machine Learning Modeling"
      ],
      "metadata": {
        "id": "cGVJ1C2m35Fr"
      }
    },
    {
      "cell_type": "code",
      "source": [
        "from sklearn.model_selection import train_test_split, cross_val_score\n",
        "from sklearn.linear_model import LinearRegression , Lasso , Ridge\n",
        "from sklearn.multioutput import MultiOutputRegressor, RegressorChain\n",
        "from sklearn.metrics import mean_squared_error\n",
        "from sklearn.ensemble import GradientBoostingRegressor\n",
        "from sklearn.multioutput import MultiOutputRegressor\n",
        "from sklearn.metrics import accuracy_score , f1_score, r2_score \n",
        "from sklearn.ensemble import RandomForestRegressor, AdaBoostRegressor,GradientBoostingRegressor\n",
        "from sklearn.neighbors import KNeighborsRegressor\n",
        "from sklearn.tree import DecisionTreeRegressor\n",
        "\n",
        "\n",
        "\n",
        "\n"
      ],
      "metadata": {
        "id": "q_SjnmZh39wz"
      },
      "execution_count": null,
      "outputs": []
    },
    {
      "cell_type": "code",
      "source": [
        "X_train, X_test, y_train, y_test = train_test_split(X, y, test_size=0.20, random_state=42)"
      ],
      "metadata": {
        "id": "jJ8uNmdT4qc3"
      },
      "execution_count": null,
      "outputs": []
    },
    {
      "cell_type": "code",
      "source": [
        "model = MultiOutputRegressor(DecisionTreeRegressor(criterion = 'squared_error'))\n",
        "model.fit(X_train, y_train)\n"
      ],
      "metadata": {
        "colab": {
          "base_uri": "https://localhost:8080/"
        },
        "id": "4L-if9bFLxdO",
        "outputId": "bd9920c7-e564-443b-d512-242d1c5dc6c8"
      },
      "execution_count": null,
      "outputs": [
        {
          "output_type": "execute_result",
          "data": {
            "text/plain": [
              "MultiOutputRegressor(estimator=DecisionTreeRegressor())"
            ]
          },
          "metadata": {},
          "execution_count": 387
        }
      ]
    },
    {
      "cell_type": "code",
      "source": [
        "model.score(X_train,y_train)\n"
      ],
      "metadata": {
        "colab": {
          "base_uri": "https://localhost:8080/"
        },
        "id": "PZ3z3JXDQX1D",
        "outputId": "20375a2d-1f69-46c9-be80-7aed4a259038"
      },
      "execution_count": null,
      "outputs": [
        {
          "output_type": "execute_result",
          "data": {
            "text/plain": [
              "0.5624593563136909"
            ]
          },
          "metadata": {},
          "execution_count": 388
        }
      ]
    },
    {
      "cell_type": "code",
      "source": [
        "y_pre = model.predict(X_train)\n",
        "r2_score(y_train,y_pre)"
      ],
      "metadata": {
        "colab": {
          "base_uri": "https://localhost:8080/"
        },
        "id": "DjSg4vRdS0HR",
        "outputId": "2136dfb3-c390-4050-addf-4e97cee59bad"
      },
      "execution_count": null,
      "outputs": [
        {
          "output_type": "execute_result",
          "data": {
            "text/plain": [
              "0.5624593563136909"
            ]
          },
          "metadata": {},
          "execution_count": 390
        }
      ]
    },
    {
      "cell_type": "code",
      "source": [
        "y_train_df = pd.DataFrame(y_train)\n",
        "y_train_df[0]"
      ],
      "metadata": {
        "colab": {
          "base_uri": "https://localhost:8080/"
        },
        "id": "g5uB5T06jZhM",
        "outputId": "59ea7be2-dd94-47e3-d060-23c4f98e2220"
      },
      "execution_count": null,
      "outputs": [
        {
          "output_type": "execute_result",
          "data": {
            "text/plain": [
              "0      -12.484629\n",
              "1      -17.030193\n",
              "2      -25.357058\n",
              "3      -16.137459\n",
              "4      -71.447075\n",
              "          ...    \n",
              "1595   -23.988100\n",
              "1596    20.870047\n",
              "1597    -6.763399\n",
              "1598    -0.674434\n",
              "1599    18.787455\n",
              "Name: 0, Length: 1600, dtype: float64"
            ]
          },
          "metadata": {},
          "execution_count": 406
        }
      ]
    },
    {
      "cell_type": "code",
      "source": [
        "y_test_df = pd.DataFrame(y_test)\n",
        "y_test_df[0]"
      ],
      "metadata": {
        "colab": {
          "base_uri": "https://localhost:8080/"
        },
        "id": "yrrDD2crknqa",
        "outputId": "5c59656b-b4a2-4838-d027-e1d8e3858881"
      },
      "execution_count": null,
      "outputs": [
        {
          "output_type": "execute_result",
          "data": {
            "text/plain": [
              "0     -21.789831\n",
              "1      -0.075722\n",
              "2       7.048895\n",
              "3      -8.241077\n",
              "4     -29.447075\n",
              "         ...    \n",
              "395    21.947229\n",
              "396    -4.300839\n",
              "397   -14.805589\n",
              "398   -11.297882\n",
              "399    19.150320\n",
              "Name: 0, Length: 400, dtype: float64"
            ]
          },
          "metadata": {},
          "execution_count": 405
        }
      ]
    },
    {
      "cell_type": "code",
      "source": [
        "tree = DecisionTreeRegressor(criterion = 'squared_error')\n",
        "tree.fit(X_train,y_train_df[0])\n",
        "tree_predict = tree.predict(X_test)\n",
        "# tree_predict\n",
        "# accuracy_score(np.array(y_test_df[0]),tree_predict)\n",
        "tree.score(X_test,y_test_df[2])"
      ],
      "metadata": {
        "colab": {
          "base_uri": "https://localhost:8080/"
        },
        "id": "y9S5KDnYXgZG",
        "outputId": "68bb845a-20f1-47d2-e1ee-0160cb7dbe21"
      },
      "execution_count": null,
      "outputs": [
        {
          "output_type": "execute_result",
          "data": {
            "text/plain": [
              "-0.5310938681741364"
            ]
          },
          "metadata": {},
          "execution_count": 413
        }
      ]
    },
    {
      "cell_type": "code",
      "source": [
        ""
      ],
      "metadata": {
        "id": "fo7VfsKIkYqX"
      },
      "execution_count": null,
      "outputs": []
    }
  ]
}