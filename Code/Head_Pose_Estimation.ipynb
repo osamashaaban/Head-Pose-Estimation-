{
  "cells": [
    {
      "cell_type": "code",
      "execution_count": 1,
      "metadata": {
        "colab": {
          "base_uri": "https://localhost:8080/"
        },
        "id": "Ph6pVhoSuIlH",
        "outputId": "6ff3e593-0b84-4531-f6f7-6905757f560c"
      },
      "outputs": [
        {
          "output_type": "stream",
          "name": "stdout",
          "text": [
            "Looking in indexes: https://pypi.org/simple, https://us-python.pkg.dev/colab-wheels/public/simple/\n",
            "Collecting mediapipe\n",
            "  Downloading mediapipe-0.8.10-cp37-cp37m-manylinux_2_17_x86_64.manylinux2014_x86_64.whl (32.8 MB)\n",
            "\u001b[K     |████████████████████████████████| 32.8 MB 1.2 MB/s \n",
            "\u001b[?25hRequirement already satisfied: opencv-python in /usr/local/lib/python3.7/dist-packages (4.1.2.30)\n",
            "Requirement already satisfied: pandas in /usr/local/lib/python3.7/dist-packages (1.3.5)\n",
            "Requirement already satisfied: scikit-learn in /usr/local/lib/python3.7/dist-packages (1.0.2)\n",
            "Requirement already satisfied: matplotlib in /usr/local/lib/python3.7/dist-packages (from mediapipe) (3.2.2)\n",
            "Requirement already satisfied: protobuf>=3.11.4 in /usr/local/lib/python3.7/dist-packages (from mediapipe) (3.17.3)\n",
            "Requirement already satisfied: attrs>=19.1.0 in /usr/local/lib/python3.7/dist-packages (from mediapipe) (21.4.0)\n",
            "Requirement already satisfied: numpy in /usr/local/lib/python3.7/dist-packages (from mediapipe) (1.21.6)\n",
            "Requirement already satisfied: absl-py in /usr/local/lib/python3.7/dist-packages (from mediapipe) (1.1.0)\n",
            "Requirement already satisfied: opencv-contrib-python in /usr/local/lib/python3.7/dist-packages (from mediapipe) (4.1.2.30)\n",
            "Requirement already satisfied: six>=1.9 in /usr/local/lib/python3.7/dist-packages (from protobuf>=3.11.4->mediapipe) (1.15.0)\n",
            "Requirement already satisfied: python-dateutil>=2.7.3 in /usr/local/lib/python3.7/dist-packages (from pandas) (2.8.2)\n",
            "Requirement already satisfied: pytz>=2017.3 in /usr/local/lib/python3.7/dist-packages (from pandas) (2022.1)\n",
            "Requirement already satisfied: scipy>=1.1.0 in /usr/local/lib/python3.7/dist-packages (from scikit-learn) (1.4.1)\n",
            "Requirement already satisfied: threadpoolctl>=2.0.0 in /usr/local/lib/python3.7/dist-packages (from scikit-learn) (3.1.0)\n",
            "Requirement already satisfied: joblib>=0.11 in /usr/local/lib/python3.7/dist-packages (from scikit-learn) (1.1.0)\n",
            "Requirement already satisfied: kiwisolver>=1.0.1 in /usr/local/lib/python3.7/dist-packages (from matplotlib->mediapipe) (1.4.3)\n",
            "Requirement already satisfied: cycler>=0.10 in /usr/local/lib/python3.7/dist-packages (from matplotlib->mediapipe) (0.11.0)\n",
            "Requirement already satisfied: pyparsing!=2.0.4,!=2.1.2,!=2.1.6,>=2.0.1 in /usr/local/lib/python3.7/dist-packages (from matplotlib->mediapipe) (3.0.9)\n",
            "Requirement already satisfied: typing-extensions in /usr/local/lib/python3.7/dist-packages (from kiwisolver>=1.0.1->matplotlib->mediapipe) (4.1.1)\n",
            "Installing collected packages: mediapipe\n",
            "Successfully installed mediapipe-0.8.10\n"
          ]
        }
      ],
      "source": [
        "!pip install mediapipe opencv-python pandas scikit-learn"
      ]
    },
    {
      "cell_type": "code",
      "execution_count": 1,
      "metadata": {
        "id": "Ok2IJOIZHKOb"
      },
      "outputs": [],
      "source": [
        ""
      ]
    },
    {
      "cell_type": "code",
      "execution_count": 2,
      "metadata": {
        "id": "_m4Je4xzuXQg"
      },
      "outputs": [],
      "source": [
        "# import the necessary packages\n",
        "\n",
        "from zipfile import ZipFile\n",
        "from matplotlib import pyplot as plt\n",
        "from imutils import face_utils\n",
        "import numpy as np\n",
        "import argparse\n",
        "import imutils\n",
        "import mediapipe as mp\n",
        "import os\n",
        "import sys\n",
        "import os,cv2,math,glob,random\n",
        "import scipy.io as sio\n",
        "from math import cos, sin\n",
        "from pathlib import Path\n",
        "import pandas as pd\n",
        "import warnings\n",
        "warnings.filterwarnings('ignore')\n",
        "from google.colab.patches import cv2_imshow\n",
        "from sklearn.model_selection import train_test_split\n"
      ]
    },
    {
      "cell_type": "code",
      "execution_count": 4,
      "metadata": {
        "colab": {
          "base_uri": "https://localhost:8080/"
        },
        "id": "as51n78BwYJb",
        "outputId": "86ee96d1-4bf3-43c9-d15e-11384c40e228"
      },
      "outputs": [
        {
          "output_type": "stream",
          "name": "stdout",
          "text": [
            "--2022-06-18 07:10:52--  http://www.cbsr.ia.ac.cn/users/xiangyuzhu/projects/3DDFA/Database/AFLW2000-3D.zip\n",
            "Resolving www.cbsr.ia.ac.cn (www.cbsr.ia.ac.cn)... 159.226.21.60\n",
            "Connecting to www.cbsr.ia.ac.cn (www.cbsr.ia.ac.cn)|159.226.21.60|:80... connected.\n",
            "HTTP request sent, awaiting response... 200 OK\n",
            "Length: 87413900 (83M) [application/x-zip-compressed]\n",
            "Saving to: ‘AFLW2000-3D.zip’\n",
            "\n",
            "AFLW2000-3D.zip     100%[===================>]  83.36M   274KB/s    in 5m 28s  \n",
            "\n",
            "2022-06-18 07:16:21 (260 KB/s) - ‘AFLW2000-3D.zip’ saved [87413900/87413900]\n",
            "\n"
          ]
        }
      ],
      "source": [
        "!wget  http://www.cbsr.ia.ac.cn/users/xiangyuzhu/projects/3DDFA/Database/AFLW2000-3D.zip\n",
        "\n"
      ]
    },
    {
      "cell_type": "code",
      "execution_count": 5,
      "metadata": {
        "id": "gU-QDQRJwdWT"
      },
      "outputs": [],
      "source": [
        "# Loading AFLW2000 Data\n",
        "%%capture\n",
        "!unzip /content/AFLW2000-3D.zip"
      ]
    },
    {
      "cell_type": "code",
      "execution_count": 6,
      "metadata": {
        "id": "NLEWQTQoHiUa"
      },
      "outputs": [],
      "source": [
        "mp_drawing = mp.solutions.drawing_utils # Drawing helpers\n",
        "mp_drawing_styles = mp.solutions.drawing_styles\n",
        "\n",
        "\n",
        "\n"
      ]
    },
    {
      "cell_type": "code",
      "execution_count": 7,
      "metadata": {
        "colab": {
          "base_uri": "https://localhost:8080/"
        },
        "id": "OpeI-72p-aJE",
        "outputId": "5d2f4376-c7eb-46fb-ae3c-430254e316f1"
      },
      "outputs": [
        {
          "output_type": "stream",
          "name": "stdout",
          "text": [
            "2000\n",
            "['/content/AFLW2000/image00002.jpg', '/content/AFLW2000/image00004.jpg', '/content/AFLW2000/image00006.jpg']\n"
          ]
        }
      ],
      "source": [
        "img_list= []\n",
        "img_mat = []\n",
        "for images in glob.glob('/content/AFLW2000/*.jpg'):\n",
        "   \n",
        "    # check if the image ends with png\n",
        "    img_list.append(images)\n",
        "\n",
        "img_list.sort()\n",
        "print(len(img_list))\n",
        "print(img_list[0:3])"
      ]
    },
    {
      "cell_type": "code",
      "execution_count": 8,
      "metadata": {
        "colab": {
          "base_uri": "https://localhost:8080/"
        },
        "id": "WVp0yJWskGQ6",
        "outputId": "6922597f-84fc-41be-800c-f73cf82eba09"
      },
      "outputs": [
        {
          "output_type": "stream",
          "name": "stdout",
          "text": [
            "2000\n",
            "['/content/AFLW2000/image00002.mat', '/content/AFLW2000/image00004.mat', '/content/AFLW2000/image00006.mat']\n"
          ]
        }
      ],
      "source": [
        "img_mat = []\n",
        "for images in glob.glob('/content/AFLW2000/*.mat'):\n",
        "   \n",
        "    # check if the image ends with png\n",
        "    img_mat.append(images)\n",
        "\n",
        "img_mat.sort() \n",
        "print(len(img_mat))\n",
        "print(img_mat[0:3])"
      ]
    },
    {
      "cell_type": "code",
      "execution_count": 9,
      "metadata": {
        "id": "Ye8i8uAsuCmF"
      },
      "outputs": [],
      "source": [
        "mp_face_mesh = mp.solutions.face_mesh\n",
        "mp_face_detection = mp.solutions.face_detection\n",
        "mp_holistic = mp.solutions.holistic \n"
      ]
    },
    {
      "cell_type": "code",
      "execution_count": 10,
      "metadata": {
        "id": "Zey9JmxaQJw5"
      },
      "outputs": [],
      "source": [
        "face_mesh = mp_face_mesh.FaceMesh(static_image_mode=True)\n",
        "holistic = mp_holistic.Holistic(min_detection_confidence=0.5, min_tracking_confidence=0.5)\n",
        "face_detection = mp_face_detection.FaceDetection(model_selection=1, min_detection_confidence=0.5)\n"
      ]
    },
    {
      "cell_type": "code",
      "execution_count": 13,
      "metadata": {
        "id": "uvK_z2meQaQk"
      },
      "outputs": [],
      "source": [
        "x_stack = np.array([np.linspace(1,468, num= 468)])\n",
        "y_stack = np.array([np.linspace(1,468, num= 468)])\n",
        "\n",
        "\n",
        "# ypr_stack = np.array([np.linspace(1,3, num= 3)])\n",
        "pitch_array1 = []\n",
        "yaw_array1 = []\n",
        "roll_array1 = []\n",
        "\n",
        "x_array_init = []\n",
        "y_array_init = []\n",
        "all_ypr = []\n",
        "for indx , img in enumerate(img_list) :\n",
        "  x_array_face = []\n",
        "  y_array_face = []\n",
        "  \n",
        "  image = cv2.imread(img)\n",
        "  image = imutils.resize(image, width=450)\n",
        "  # cv2_imshow(image)\n",
        "  result = face_mesh.process(cv2.cvtColor(image, cv2.COLOR_BGR2RGB))\n",
        "  face = result.multi_face_landmarks\n",
        "\n",
        "  try:\n",
        "    for landm in face[0].landmark:\n",
        "      \n",
        "      x = landm.x\n",
        "      y = landm.y\n",
        "      # note: the x and y values are Normalized from 0 to 1 and we need to denormalize them\n",
        "      relative_x = int(x * image.shape [1])\n",
        "      relative_y = int(y * image.shape [0])\n",
        "      x_array_face.append(relative_x)\n",
        "      y_array_face.append(relative_y)\n",
        "    \n",
        "    x_array_face = np.array(x_array_face)\n",
        "    x_stack = np.vstack([x_stack,x_array_face.T])\n",
        "\n",
        "    y_array_face = np.array(y_array_face)\n",
        "    y_stack = np.vstack([y_stack,y_array_face.T])\n",
        "\n",
        "    # x_array_init.append(x_array_face)\n",
        "    # y_array_init.append(y_array_face)\n",
        "\n",
        "    # full_x_array = np.array(x_array_init)\n",
        "    # full_y_array = np.array(y_array_init)\n",
        "\n",
        "    mat_file = sio.loadmat(img_mat[indx])\n",
        "    # extracting the labels 3 angels\n",
        "    pose_para = mat_file[\"Pose_Para\"][0][:3]\n",
        "    pitch = pose_para[0]\n",
        "    yaw = pose_para[1]\n",
        "    roll = pose_para[2] \n",
        "    pitch_array1.append(pitch)\n",
        "    yaw_array1.append(yaw)\n",
        "    roll_array1.append(roll)\n",
        "\n",
        "    pitch_array = np.array(pitch_array1)\n",
        "\n",
        "    yaw_array = np.array(yaw_array1)\n",
        "\n",
        "    roll_array = np.array(roll_array1)\n",
        "\n",
        "    # ypr_stack = np.vstack([ypr_stack, all_ypr_array.T])\n",
        "\n",
        "\n",
        "  except:\n",
        "    pass\n"
      ]
    },
    {
      "cell_type": "code",
      "execution_count": 14,
      "metadata": {
        "colab": {
          "base_uri": "https://localhost:8080/"
        },
        "id": "SX8ecFwtgOkY",
        "outputId": "c0d165f1-f971-4a51-e09c-b66a95dbd44e"
      },
      "outputs": [
        {
          "output_type": "execute_result",
          "data": {
            "text/plain": [
              "(1853, 468)"
            ]
          },
          "metadata": {},
          "execution_count": 14
        }
      ],
      "source": [
        "# # Uncomment for the first time only\n",
        "x_stack = np.delete(x_stack, 0, 0)\n",
        "x_stack.shape"
      ]
    },
    {
      "cell_type": "code",
      "execution_count": 15,
      "metadata": {
        "colab": {
          "base_uri": "https://localhost:8080/"
        },
        "id": "ZxWnBtFrqDyM",
        "outputId": "ed6d8ba2-26ff-461f-a784-d18e47ada06a"
      },
      "outputs": [
        {
          "output_type": "execute_result",
          "data": {
            "text/plain": [
              "(1853, 468)"
            ]
          },
          "metadata": {},
          "execution_count": 15
        }
      ],
      "source": [
        "# # Uncomment for the first time only\n",
        "y_stack = np.delete(y_stack,0,0)\n",
        "y_stack.shape"
      ]
    },
    {
      "cell_type": "code",
      "execution_count": 15,
      "metadata": {
        "id": "2pgtfdtgBvEc"
      },
      "outputs": [],
      "source": [
        ""
      ]
    },
    {
      "cell_type": "code",
      "execution_count": 15,
      "metadata": {
        "id": "mU7KnVYrBfwa"
      },
      "outputs": [],
      "source": [
        ""
      ]
    },
    {
      "cell_type": "code",
      "execution_count": 16,
      "metadata": {
        "colab": {
          "base_uri": "https://localhost:8080/"
        },
        "id": "3PvRW-hLkxO3",
        "outputId": "36a89944-0274-4014-f315-d1f6953ca47c"
      },
      "outputs": [
        {
          "output_type": "stream",
          "name": "stdout",
          "text": [
            "(1853,)\n",
            "(1853,)\n",
            "(1853,)\n"
          ]
        }
      ],
      "source": [
        "print(pitch_array.shape)\n",
        "print(yaw_array.shape)\n",
        "print(roll_array.shape)"
      ]
    },
    {
      "cell_type": "code",
      "execution_count": null,
      "metadata": {
        "id": "-D2AVOwEwUdP"
      },
      "outputs": [],
      "source": [
        "# ypr_array = np.array([np.linspace(1,3, num= 3)])\n",
        "# for indx , img in enumerate(img_list) :\n",
        "  \n",
        "#   all_imgs = []\n",
        "#   all_ypr = []\n",
        "#   image = cv2.imread(img)\n",
        "#   image = imutils.resize(image, width=450)\n",
        "#   # cv2_imshow(image)\n",
        "#   result = face_mesh.process(cv2.cvtColor(image, cv2.COLOR_BGR2RGB))\n",
        "#   face = result.multi_face_landmarks\n",
        "\n",
        "#   try:\n",
        "#     for landm in face[0].landmark:\n",
        "#       x = landm.x\n",
        "#       y = landm.y\n",
        "#       # note: the x and y values are Normalized from 0 to 1 and we need to denormalize them\n",
        "#       relative_x = int(x * image.shape [1])\n",
        "#       relative_y = int(y * image.shape [0])\n",
        "#       all_imgs.append(np.array([relative_x]))\n",
        "#       all_imgs.append(np.array([relative_y]))\n",
        "#     all_imgs_arr = np.array(all_imgs)\n",
        "#     array = np.vstack([array,all_imgs_arr.T])\n",
        "    \n",
        "\n",
        "#     mat_file = sio.loadmat(img_mat[indx])\n",
        "#     # extracting the labels 3 angels\n",
        "#     pose_para = mat_file[\"Pose_Para\"][0][:3]\n",
        "#     pitch = pose_para[0]\n",
        "#     yaw = pose_para[1]\n",
        "#     roll = pose_para[2] \n",
        "#     all_ypr.append(pitch)\n",
        "#     all_ypr.append(yaw)\n",
        "#     all_ypr.append(roll)\n",
        "#     all_ypr_array = np.array(all_ypr)\n",
        "#     ypr_array = np.vstack([ypr_array,all_ypr_array.T])\n",
        "\n",
        "\n",
        "#   except:\n",
        "#     pass\n"
      ]
    },
    {
      "cell_type": "code",
      "execution_count": null,
      "metadata": {
        "id": "1AI-QwHa0422"
      },
      "outputs": [],
      "source": [
        ""
      ]
    },
    {
      "cell_type": "markdown",
      "metadata": {
        "id": "qTuSLTfxoapb"
      },
      "source": [
        "# Preprocessing the data\n"
      ]
    },
    {
      "cell_type": "code",
      "execution_count": 17,
      "metadata": {
        "colab": {
          "base_uri": "https://localhost:8080/"
        },
        "id": "xyxG3TiwocKp",
        "outputId": "4e20d3d9-2719-45d1-8291-23dd9c030316"
      },
      "outputs": [
        {
          "output_type": "stream",
          "name": "stdout",
          "text": [
            "(1853, 468)\n",
            "(1853, 468)\n",
            "(1853, 936)\n"
          ]
        }
      ],
      "source": [
        "# center 99\n",
        "# Top of Head = 10\n",
        "# Bottom of Head = 171\n",
        "\n",
        "# centering the data arround the 99th point \n",
        "x_center = x_stack - x_stack[:,99].reshape(-1,1)\n",
        "y_center = y_stack - y_stack[:,99].reshape(-1,1)\n",
        "\n",
        "# normalizing the data to be in the same scale by dividing over the distance between point 10 and point 171\n",
        "x_171 = x_stack[:,171]\n",
        "x_10 = x_stack[:,10]\n",
        "y_171 = y_stack[:,171]\n",
        "y_10 = y_stack[:,10]\n",
        "\n",
        "# computing the distance\n",
        "distance = np.linalg.norm(np.array((x_10,y_10)) - np.array((x_171,y_171)),axis = 0).reshape(-1,1)\n",
        "x_norm = x_center / distance\n",
        "y_norm = y_center / distance\n",
        "\n",
        "print(x_norm.shape)\n",
        "print(y_norm.shape)\n",
        "\n",
        "# concatinating the X and Y points to form the compelete features\n",
        "features = np.hstack([x_norm,y_norm])\n",
        "\n",
        "print(features.shape)"
      ]
    },
    {
      "cell_type": "code",
      "execution_count": 17,
      "metadata": {
        "id": "eCJfp7ZrocrD"
      },
      "outputs": [],
      "source": [
        ""
      ]
    },
    {
      "cell_type": "code",
      "execution_count": 17,
      "metadata": {
        "id": "WGn73_zeocth"
      },
      "outputs": [],
      "source": [
        ""
      ]
    },
    {
      "cell_type": "code",
      "execution_count": 18,
      "metadata": {
        "colab": {
          "base_uri": "https://localhost:8080/",
          "height": 205
        },
        "id": "4cnfG-tcC_eX",
        "outputId": "110953a4-41a5-4e2a-c5da-b3bd0c6cd795"
      },
      "outputs": [
        {
          "output_type": "execute_result",
          "data": {
            "text/plain": [
              "        0         1         2         3         4         5         6    \\\n",
              "0  0.042774  0.051328  0.051328  0.029942  0.051328  0.059883  0.076993   \n",
              "1  0.000000 -0.070821  0.019315 -0.012876 -0.070821 -0.038629  0.064382   \n",
              "\n",
              "        7         8         9    ...       926       927       928       929  \\\n",
              "0 -0.192482  0.085547  0.089825  ...  0.008555 -0.004277  0.000000  0.012832   \n",
              "1  0.064382  0.096573  0.090135  ... -0.019315 -0.025753  0.012876 -0.012876   \n",
              "\n",
              "        930       931       932       933       934       935  \n",
              "0  0.017109 -0.290861 -0.278029 -0.260920 -0.316526 -0.333635  \n",
              "1  0.000000 -0.283282 -0.270406 -0.263967 -0.302597 -0.321911  \n",
              "\n",
              "[2 rows x 936 columns]"
            ],
            "text/html": [
              "\n",
              "  <div id=\"df-58207045-5233-471f-859f-3e97dfe18403\">\n",
              "    <div class=\"colab-df-container\">\n",
              "      <div>\n",
              "<style scoped>\n",
              "    .dataframe tbody tr th:only-of-type {\n",
              "        vertical-align: middle;\n",
              "    }\n",
              "\n",
              "    .dataframe tbody tr th {\n",
              "        vertical-align: top;\n",
              "    }\n",
              "\n",
              "    .dataframe thead th {\n",
              "        text-align: right;\n",
              "    }\n",
              "</style>\n",
              "<table border=\"1\" class=\"dataframe\">\n",
              "  <thead>\n",
              "    <tr style=\"text-align: right;\">\n",
              "      <th></th>\n",
              "      <th>0</th>\n",
              "      <th>1</th>\n",
              "      <th>2</th>\n",
              "      <th>3</th>\n",
              "      <th>4</th>\n",
              "      <th>5</th>\n",
              "      <th>6</th>\n",
              "      <th>7</th>\n",
              "      <th>8</th>\n",
              "      <th>9</th>\n",
              "      <th>...</th>\n",
              "      <th>926</th>\n",
              "      <th>927</th>\n",
              "      <th>928</th>\n",
              "      <th>929</th>\n",
              "      <th>930</th>\n",
              "      <th>931</th>\n",
              "      <th>932</th>\n",
              "      <th>933</th>\n",
              "      <th>934</th>\n",
              "      <th>935</th>\n",
              "    </tr>\n",
              "  </thead>\n",
              "  <tbody>\n",
              "    <tr>\n",
              "      <th>0</th>\n",
              "      <td>0.042774</td>\n",
              "      <td>0.051328</td>\n",
              "      <td>0.051328</td>\n",
              "      <td>0.029942</td>\n",
              "      <td>0.051328</td>\n",
              "      <td>0.059883</td>\n",
              "      <td>0.076993</td>\n",
              "      <td>-0.192482</td>\n",
              "      <td>0.085547</td>\n",
              "      <td>0.089825</td>\n",
              "      <td>...</td>\n",
              "      <td>0.008555</td>\n",
              "      <td>-0.004277</td>\n",
              "      <td>0.000000</td>\n",
              "      <td>0.012832</td>\n",
              "      <td>0.017109</td>\n",
              "      <td>-0.290861</td>\n",
              "      <td>-0.278029</td>\n",
              "      <td>-0.260920</td>\n",
              "      <td>-0.316526</td>\n",
              "      <td>-0.333635</td>\n",
              "    </tr>\n",
              "    <tr>\n",
              "      <th>1</th>\n",
              "      <td>0.000000</td>\n",
              "      <td>-0.070821</td>\n",
              "      <td>0.019315</td>\n",
              "      <td>-0.012876</td>\n",
              "      <td>-0.070821</td>\n",
              "      <td>-0.038629</td>\n",
              "      <td>0.064382</td>\n",
              "      <td>0.064382</td>\n",
              "      <td>0.096573</td>\n",
              "      <td>0.090135</td>\n",
              "      <td>...</td>\n",
              "      <td>-0.019315</td>\n",
              "      <td>-0.025753</td>\n",
              "      <td>0.012876</td>\n",
              "      <td>-0.012876</td>\n",
              "      <td>0.000000</td>\n",
              "      <td>-0.283282</td>\n",
              "      <td>-0.270406</td>\n",
              "      <td>-0.263967</td>\n",
              "      <td>-0.302597</td>\n",
              "      <td>-0.321911</td>\n",
              "    </tr>\n",
              "  </tbody>\n",
              "</table>\n",
              "<p>2 rows × 936 columns</p>\n",
              "</div>\n",
              "      <button class=\"colab-df-convert\" onclick=\"convertToInteractive('df-58207045-5233-471f-859f-3e97dfe18403')\"\n",
              "              title=\"Convert this dataframe to an interactive table.\"\n",
              "              style=\"display:none;\">\n",
              "        \n",
              "  <svg xmlns=\"http://www.w3.org/2000/svg\" height=\"24px\"viewBox=\"0 0 24 24\"\n",
              "       width=\"24px\">\n",
              "    <path d=\"M0 0h24v24H0V0z\" fill=\"none\"/>\n",
              "    <path d=\"M18.56 5.44l.94 2.06.94-2.06 2.06-.94-2.06-.94-.94-2.06-.94 2.06-2.06.94zm-11 1L8.5 8.5l.94-2.06 2.06-.94-2.06-.94L8.5 2.5l-.94 2.06-2.06.94zm10 10l.94 2.06.94-2.06 2.06-.94-2.06-.94-.94-2.06-.94 2.06-2.06.94z\"/><path d=\"M17.41 7.96l-1.37-1.37c-.4-.4-.92-.59-1.43-.59-.52 0-1.04.2-1.43.59L10.3 9.45l-7.72 7.72c-.78.78-.78 2.05 0 2.83L4 21.41c.39.39.9.59 1.41.59.51 0 1.02-.2 1.41-.59l7.78-7.78 2.81-2.81c.8-.78.8-2.07 0-2.86zM5.41 20L4 18.59l7.72-7.72 1.47 1.35L5.41 20z\"/>\n",
              "  </svg>\n",
              "      </button>\n",
              "      \n",
              "  <style>\n",
              "    .colab-df-container {\n",
              "      display:flex;\n",
              "      flex-wrap:wrap;\n",
              "      gap: 12px;\n",
              "    }\n",
              "\n",
              "    .colab-df-convert {\n",
              "      background-color: #E8F0FE;\n",
              "      border: none;\n",
              "      border-radius: 50%;\n",
              "      cursor: pointer;\n",
              "      display: none;\n",
              "      fill: #1967D2;\n",
              "      height: 32px;\n",
              "      padding: 0 0 0 0;\n",
              "      width: 32px;\n",
              "    }\n",
              "\n",
              "    .colab-df-convert:hover {\n",
              "      background-color: #E2EBFA;\n",
              "      box-shadow: 0px 1px 2px rgba(60, 64, 67, 0.3), 0px 1px 3px 1px rgba(60, 64, 67, 0.15);\n",
              "      fill: #174EA6;\n",
              "    }\n",
              "\n",
              "    [theme=dark] .colab-df-convert {\n",
              "      background-color: #3B4455;\n",
              "      fill: #D2E3FC;\n",
              "    }\n",
              "\n",
              "    [theme=dark] .colab-df-convert:hover {\n",
              "      background-color: #434B5C;\n",
              "      box-shadow: 0px 1px 3px 1px rgba(0, 0, 0, 0.15);\n",
              "      filter: drop-shadow(0px 1px 2px rgba(0, 0, 0, 0.3));\n",
              "      fill: #FFFFFF;\n",
              "    }\n",
              "  </style>\n",
              "\n",
              "      <script>\n",
              "        const buttonEl =\n",
              "          document.querySelector('#df-58207045-5233-471f-859f-3e97dfe18403 button.colab-df-convert');\n",
              "        buttonEl.style.display =\n",
              "          google.colab.kernel.accessAllowed ? 'block' : 'none';\n",
              "\n",
              "        async function convertToInteractive(key) {\n",
              "          const element = document.querySelector('#df-58207045-5233-471f-859f-3e97dfe18403');\n",
              "          const dataTable =\n",
              "            await google.colab.kernel.invokeFunction('convertToInteractive',\n",
              "                                                     [key], {});\n",
              "          if (!dataTable) return;\n",
              "\n",
              "          const docLinkHtml = 'Like what you see? Visit the ' +\n",
              "            '<a target=\"_blank\" href=https://colab.research.google.com/notebooks/data_table.ipynb>data table notebook</a>'\n",
              "            + ' to learn more about interactive tables.';\n",
              "          element.innerHTML = '';\n",
              "          dataTable['output_type'] = 'display_data';\n",
              "          await google.colab.output.renderOutput(dataTable, element);\n",
              "          const docLink = document.createElement('div');\n",
              "          docLink.innerHTML = docLinkHtml;\n",
              "          element.appendChild(docLink);\n",
              "        }\n",
              "      </script>\n",
              "    </div>\n",
              "  </div>\n",
              "  "
            ]
          },
          "metadata": {},
          "execution_count": 18
        }
      ],
      "source": [
        "df = pd.DataFrame(features)\n",
        "df.head(2)\n"
      ]
    },
    {
      "cell_type": "code",
      "execution_count": 19,
      "metadata": {
        "colab": {
          "base_uri": "https://localhost:8080/"
        },
        "id": "GiB9YMPS5So9",
        "outputId": "fc1f63e2-5742-4d73-d14f-4c3948844a5b"
      },
      "outputs": [
        {
          "output_type": "execute_result",
          "data": {
            "text/plain": [
              "1853"
            ]
          },
          "metadata": {},
          "execution_count": 19
        }
      ],
      "source": [
        "len(df)"
      ]
    },
    {
      "cell_type": "code",
      "execution_count": 19,
      "metadata": {
        "id": "m44XQ1wL2on6"
      },
      "outputs": [],
      "source": [
        ""
      ]
    },
    {
      "cell_type": "code",
      "execution_count": 19,
      "metadata": {
        "id": "BvzUuVVW5WnA"
      },
      "outputs": [],
      "source": [
        ""
      ]
    },
    {
      "cell_type": "code",
      "execution_count": 20,
      "metadata": {
        "colab": {
          "base_uri": "https://localhost:8080/",
          "height": 205
        },
        "id": "ZJvSZs7s3Bkl",
        "outputId": "9630765b-3121-4a82-a6cf-d273d2434e56"
      },
      "outputs": [
        {
          "output_type": "execute_result",
          "data": {
            "text/plain": [
              "          0         1         2         3         4         5         6  \\\n",
              "0  0.042774  0.051328  0.051328  0.029942  0.051328  0.059883  0.076993   \n",
              "1  0.000000 -0.070821  0.019315 -0.012876 -0.070821 -0.038629  0.064382   \n",
              "\n",
              "          7         8         9  ...       929       930       931       932  \\\n",
              "0 -0.192482  0.085547  0.089825  ...  0.012832  0.017109 -0.290861 -0.278029   \n",
              "1  0.064382  0.096573  0.090135  ... -0.012876  0.000000 -0.283282 -0.270406   \n",
              "\n",
              "        933       934       935       yaw     pitch      roll  \n",
              "0 -0.260920 -0.316526 -0.333635  0.018227 -0.399231  0.085676  \n",
              "1 -0.263967 -0.302597 -0.321911  1.189533  0.470065  0.300959  \n",
              "\n",
              "[2 rows x 939 columns]"
            ],
            "text/html": [
              "\n",
              "  <div id=\"df-797b7b9e-1c02-46e9-85dc-53d44b2c31e4\">\n",
              "    <div class=\"colab-df-container\">\n",
              "      <div>\n",
              "<style scoped>\n",
              "    .dataframe tbody tr th:only-of-type {\n",
              "        vertical-align: middle;\n",
              "    }\n",
              "\n",
              "    .dataframe tbody tr th {\n",
              "        vertical-align: top;\n",
              "    }\n",
              "\n",
              "    .dataframe thead th {\n",
              "        text-align: right;\n",
              "    }\n",
              "</style>\n",
              "<table border=\"1\" class=\"dataframe\">\n",
              "  <thead>\n",
              "    <tr style=\"text-align: right;\">\n",
              "      <th></th>\n",
              "      <th>0</th>\n",
              "      <th>1</th>\n",
              "      <th>2</th>\n",
              "      <th>3</th>\n",
              "      <th>4</th>\n",
              "      <th>5</th>\n",
              "      <th>6</th>\n",
              "      <th>7</th>\n",
              "      <th>8</th>\n",
              "      <th>9</th>\n",
              "      <th>...</th>\n",
              "      <th>929</th>\n",
              "      <th>930</th>\n",
              "      <th>931</th>\n",
              "      <th>932</th>\n",
              "      <th>933</th>\n",
              "      <th>934</th>\n",
              "      <th>935</th>\n",
              "      <th>yaw</th>\n",
              "      <th>pitch</th>\n",
              "      <th>roll</th>\n",
              "    </tr>\n",
              "  </thead>\n",
              "  <tbody>\n",
              "    <tr>\n",
              "      <th>0</th>\n",
              "      <td>0.042774</td>\n",
              "      <td>0.051328</td>\n",
              "      <td>0.051328</td>\n",
              "      <td>0.029942</td>\n",
              "      <td>0.051328</td>\n",
              "      <td>0.059883</td>\n",
              "      <td>0.076993</td>\n",
              "      <td>-0.192482</td>\n",
              "      <td>0.085547</td>\n",
              "      <td>0.089825</td>\n",
              "      <td>...</td>\n",
              "      <td>0.012832</td>\n",
              "      <td>0.017109</td>\n",
              "      <td>-0.290861</td>\n",
              "      <td>-0.278029</td>\n",
              "      <td>-0.260920</td>\n",
              "      <td>-0.316526</td>\n",
              "      <td>-0.333635</td>\n",
              "      <td>0.018227</td>\n",
              "      <td>-0.399231</td>\n",
              "      <td>0.085676</td>\n",
              "    </tr>\n",
              "    <tr>\n",
              "      <th>1</th>\n",
              "      <td>0.000000</td>\n",
              "      <td>-0.070821</td>\n",
              "      <td>0.019315</td>\n",
              "      <td>-0.012876</td>\n",
              "      <td>-0.070821</td>\n",
              "      <td>-0.038629</td>\n",
              "      <td>0.064382</td>\n",
              "      <td>0.064382</td>\n",
              "      <td>0.096573</td>\n",
              "      <td>0.090135</td>\n",
              "      <td>...</td>\n",
              "      <td>-0.012876</td>\n",
              "      <td>0.000000</td>\n",
              "      <td>-0.283282</td>\n",
              "      <td>-0.270406</td>\n",
              "      <td>-0.263967</td>\n",
              "      <td>-0.302597</td>\n",
              "      <td>-0.321911</td>\n",
              "      <td>1.189533</td>\n",
              "      <td>0.470065</td>\n",
              "      <td>0.300959</td>\n",
              "    </tr>\n",
              "  </tbody>\n",
              "</table>\n",
              "<p>2 rows × 939 columns</p>\n",
              "</div>\n",
              "      <button class=\"colab-df-convert\" onclick=\"convertToInteractive('df-797b7b9e-1c02-46e9-85dc-53d44b2c31e4')\"\n",
              "              title=\"Convert this dataframe to an interactive table.\"\n",
              "              style=\"display:none;\">\n",
              "        \n",
              "  <svg xmlns=\"http://www.w3.org/2000/svg\" height=\"24px\"viewBox=\"0 0 24 24\"\n",
              "       width=\"24px\">\n",
              "    <path d=\"M0 0h24v24H0V0z\" fill=\"none\"/>\n",
              "    <path d=\"M18.56 5.44l.94 2.06.94-2.06 2.06-.94-2.06-.94-.94-2.06-.94 2.06-2.06.94zm-11 1L8.5 8.5l.94-2.06 2.06-.94-2.06-.94L8.5 2.5l-.94 2.06-2.06.94zm10 10l.94 2.06.94-2.06 2.06-.94-2.06-.94-.94-2.06-.94 2.06-2.06.94z\"/><path d=\"M17.41 7.96l-1.37-1.37c-.4-.4-.92-.59-1.43-.59-.52 0-1.04.2-1.43.59L10.3 9.45l-7.72 7.72c-.78.78-.78 2.05 0 2.83L4 21.41c.39.39.9.59 1.41.59.51 0 1.02-.2 1.41-.59l7.78-7.78 2.81-2.81c.8-.78.8-2.07 0-2.86zM5.41 20L4 18.59l7.72-7.72 1.47 1.35L5.41 20z\"/>\n",
              "  </svg>\n",
              "      </button>\n",
              "      \n",
              "  <style>\n",
              "    .colab-df-container {\n",
              "      display:flex;\n",
              "      flex-wrap:wrap;\n",
              "      gap: 12px;\n",
              "    }\n",
              "\n",
              "    .colab-df-convert {\n",
              "      background-color: #E8F0FE;\n",
              "      border: none;\n",
              "      border-radius: 50%;\n",
              "      cursor: pointer;\n",
              "      display: none;\n",
              "      fill: #1967D2;\n",
              "      height: 32px;\n",
              "      padding: 0 0 0 0;\n",
              "      width: 32px;\n",
              "    }\n",
              "\n",
              "    .colab-df-convert:hover {\n",
              "      background-color: #E2EBFA;\n",
              "      box-shadow: 0px 1px 2px rgba(60, 64, 67, 0.3), 0px 1px 3px 1px rgba(60, 64, 67, 0.15);\n",
              "      fill: #174EA6;\n",
              "    }\n",
              "\n",
              "    [theme=dark] .colab-df-convert {\n",
              "      background-color: #3B4455;\n",
              "      fill: #D2E3FC;\n",
              "    }\n",
              "\n",
              "    [theme=dark] .colab-df-convert:hover {\n",
              "      background-color: #434B5C;\n",
              "      box-shadow: 0px 1px 3px 1px rgba(0, 0, 0, 0.15);\n",
              "      filter: drop-shadow(0px 1px 2px rgba(0, 0, 0, 0.3));\n",
              "      fill: #FFFFFF;\n",
              "    }\n",
              "  </style>\n",
              "\n",
              "      <script>\n",
              "        const buttonEl =\n",
              "          document.querySelector('#df-797b7b9e-1c02-46e9-85dc-53d44b2c31e4 button.colab-df-convert');\n",
              "        buttonEl.style.display =\n",
              "          google.colab.kernel.accessAllowed ? 'block' : 'none';\n",
              "\n",
              "        async function convertToInteractive(key) {\n",
              "          const element = document.querySelector('#df-797b7b9e-1c02-46e9-85dc-53d44b2c31e4');\n",
              "          const dataTable =\n",
              "            await google.colab.kernel.invokeFunction('convertToInteractive',\n",
              "                                                     [key], {});\n",
              "          if (!dataTable) return;\n",
              "\n",
              "          const docLinkHtml = 'Like what you see? Visit the ' +\n",
              "            '<a target=\"_blank\" href=https://colab.research.google.com/notebooks/data_table.ipynb>data table notebook</a>'\n",
              "            + ' to learn more about interactive tables.';\n",
              "          element.innerHTML = '';\n",
              "          dataTable['output_type'] = 'display_data';\n",
              "          await google.colab.output.renderOutput(dataTable, element);\n",
              "          const docLink = document.createElement('div');\n",
              "          docLink.innerHTML = docLinkHtml;\n",
              "          element.appendChild(docLink);\n",
              "        }\n",
              "      </script>\n",
              "    </div>\n",
              "  </div>\n",
              "  "
            ]
          },
          "metadata": {},
          "execution_count": 20
        }
      ],
      "source": [
        "data = df.copy()\n",
        "data['yaw'] = pd.DataFrame(yaw_array)\n",
        "data['pitch'] = pd.DataFrame(pitch_array)\n",
        "data['roll'] = pd.DataFrame(roll_array)\n",
        "data.head(2)"
      ]
    },
    {
      "cell_type": "code",
      "source": [
        "data.to_csv(\"landmarks.csv\")"
      ],
      "metadata": {
        "id": "l_uDDouMrSaf"
      },
      "execution_count": 21,
      "outputs": []
    },
    {
      "cell_type": "code",
      "execution_count": 22,
      "metadata": {
        "colab": {
          "base_uri": "https://localhost:8080/"
        },
        "id": "_Mz_4bbB4BU2",
        "outputId": "e3f35799-4a58-4203-a856-0f58e27c4aa4"
      },
      "outputs": [
        {
          "output_type": "stream",
          "name": "stdout",
          "text": [
            "(1853, 936)\n",
            "0      -0.399231\n",
            "1       0.470065\n",
            "2      -0.184650\n",
            "3      -0.175379\n",
            "4      -0.026812\n",
            "          ...   \n",
            "1848   -0.306358\n",
            "1849   -0.367547\n",
            "1850   -0.156035\n",
            "1851   -0.197102\n",
            "1852   -0.015552\n",
            "Name: pitch, Length: 1853, dtype: float64\n",
            "0       0.018227\n",
            "1       1.189533\n",
            "2       0.881137\n",
            "3       0.299208\n",
            "4       0.011965\n",
            "          ...   \n",
            "1848   -0.283822\n",
            "1849   -0.429723\n",
            "1850    0.567114\n",
            "1851   -0.070430\n",
            "1852   -0.180126\n",
            "Name: yaw, Length: 1853, dtype: float64\n",
            "0       0.085676\n",
            "1       0.300959\n",
            "2      -0.236852\n",
            "3      -0.373374\n",
            "4      -0.220662\n",
            "          ...   \n",
            "1848    0.038554\n",
            "1849    0.122791\n",
            "1850   -0.108536\n",
            "1851    0.105118\n",
            "1852   -0.024546\n",
            "Name: roll, Length: 1853, dtype: float64\n"
          ]
        }
      ],
      "source": [
        "# features\n",
        "x= np.array(df)\n",
        "print(x.shape)\n",
        "# pitch label\n",
        "y_p=data['pitch']\n",
        "print(y_p)\n",
        "\n",
        "# yaw label\n",
        "y_y=data['yaw']\n",
        "print(y_y)\n",
        "# roll label\n",
        "y_r=data['roll']\n",
        "print(y_r)\n"
      ]
    },
    {
      "cell_type": "code",
      "execution_count": 23,
      "metadata": {
        "id": "-iZLLPd3431H"
      },
      "outputs": [],
      "source": [
        "# PITCH \n",
        "\n",
        "X_train_p, X_test_p, y_train_p, y_test_p = train_test_split(x, y_p, test_size=0.2, random_state=42, shuffle= True)\n",
        "\n",
        "X_val_p, X_test_p, y_val_p, y_test_p = train_test_split(X_test_p, y_test_p, test_size=0.5, random_state=42, shuffle= True)"
      ]
    },
    {
      "cell_type": "code",
      "execution_count": 24,
      "metadata": {
        "id": "L-QUuBrm4tij"
      },
      "outputs": [],
      "source": [
        "# YAW \n",
        "\n",
        "X_train_y, X_test_y, y_train_y, y_test_y = train_test_split(x, y_y, test_size=0.2, shuffle=True,random_state=1234)\n",
        "\n",
        "X_val_y, X_test_y, y_val_y, y_test_y = train_test_split(X_test_y, y_test_y, test_size=0.5, shuffle=True,random_state=1234)\n"
      ]
    },
    {
      "cell_type": "code",
      "execution_count": 25,
      "metadata": {
        "id": "wTEXgagXN-51"
      },
      "outputs": [],
      "source": [
        "# Roll \n",
        "\n",
        "X_train_r, X_test_r, y_train_r, y_test_r = train_test_split(x, y_r, test_size=0.2,shuffle=True, random_state=1234)\n",
        "\n",
        "X_val_r, X_test_r, y_val_r, y_test_r = train_test_split(X_test_r, y_test_r, test_size=0.5,shuffle=True, random_state=0)"
      ]
    },
    {
      "cell_type": "code",
      "execution_count": 26,
      "metadata": {
        "id": "bmyaSTQF5G98"
      },
      "outputs": [],
      "source": [
        "from sklearn.model_selection import train_test_split\n",
        "from sklearn.preprocessing import StandardScaler, RobustScaler, MinMaxScaler, MaxAbsScaler, QuantileTransformer, PowerTransformer, PolynomialFeatures\n",
        "from sklearn.decomposition import PCA\n",
        "from sklearn.linear_model import LinearRegression\n",
        "from sklearn.linear_model import Ridge , ridge_regression,Lasso\n",
        "from sklearn.multioutput import MultiOutputRegressor\n",
        "from sklearn.ensemble import RandomForestRegressor, VotingRegressor,BaggingRegressor,ExtraTreesRegressor\n",
        "from sklearn.pipeline import make_pipeline, FeatureUnion\n",
        "from sklearn.metrics import mean_squared_error, r2_score\n",
        "from sklearn.svm import SVR\n",
        "from sklearn.ensemble import GradientBoostingRegressor, AdaBoostRegressor\n",
        "from sklearn.preprocessing import StandardScaler, RobustScaler, MinMaxScaler, MaxAbsScaler\n",
        "from sklearn.tree import DecisionTreeRegressor\n",
        "from sklearn.metrics import mean_squared_error\n",
        "from sklearn.neighbors import KNeighborsRegressor\n",
        "from sklearn.metrics import accuracy_score \n",
        "from sklearn.linear_model import OrthogonalMatchingPursuit\n",
        "from sklearn.datasets import make_regression\n",
        "import sklearn.linear_model\n",
        "from sklearn.impute import KNNImputer\n",
        "from sklearn import metrics\n"
      ]
    },
    {
      "cell_type": "markdown",
      "metadata": {
        "id": "hxx_I4ZoMYOr"
      },
      "source": [
        "# Yaw model "
      ]
    },
    {
      "cell_type": "markdown",
      "metadata": {
        "id": "EZ6MvsAi-aIH"
      },
      "source": [
        "# RandomForest"
      ]
    },
    {
      "cell_type": "code",
      "execution_count": 27,
      "metadata": {
        "id": "zBzR341F5s5J"
      },
      "outputs": [],
      "source": [
        "\n",
        "rf_model = make_pipeline(PCA(n_components=100, whiten=True),RandomForestRegressor())\n",
        "rf_model.fit(X_train_y, y_train_y)\n",
        "rf_predict_test = rf_model.predict(X_test_y)"
      ]
    },
    {
      "cell_type": "code",
      "execution_count": 28,
      "metadata": {
        "id": "lauk2YAW81S0"
      },
      "outputs": [],
      "source": [
        "# Test error\n",
        "score_val = round(rf_model.score(X_val_y, y_val_y), 4)\n",
        "score_test = round(rf_model.score(X_test_y, y_test_y), 4)\n",
        "mae_rf = metrics.mean_absolute_error(y_test_y, rf_predict_test)\n",
        "mse_rf = metrics.mean_squared_error(y_test_y, rf_predict_test)"
      ]
    },
    {
      "cell_type": "code",
      "execution_count": 29,
      "metadata": {
        "colab": {
          "base_uri": "https://localhost:8080/"
        },
        "id": "NJq6Lp1oLvff",
        "outputId": "706e14e8-e363-4d6c-d4e4-5f3c4111e116"
      },
      "outputs": [
        {
          "output_type": "stream",
          "name": "stdout",
          "text": [
            "Test score : 0.4666\n",
            "Validation score : 0.903\n",
            "mean_absolute_error  : 0.12325262510478384\n",
            "mean_squared_error  : 0.2696031896379545\n"
          ]
        }
      ],
      "source": [
        "print(f\"Test score : {score_test}\")\n",
        "print(f\"Validation score : {score_val}\")\n",
        "print(f\"mean_absolute_error  : {mae_rf}\")\n",
        "print(f\"mean_squared_error  : {mse_rf}\")"
      ]
    },
    {
      "cell_type": "markdown",
      "metadata": {
        "id": "j1rS1IZm-esr"
      },
      "source": [
        "# SVR"
      ]
    },
    {
      "cell_type": "code",
      "execution_count": 30,
      "metadata": {
        "id": "7MKB6zLr-XIB"
      },
      "outputs": [],
      "source": [
        "from sklearn.svm import SVR\n",
        "\n",
        "svr_model =  make_pipeline(RobustScaler(),PCA(n_components=400),SVR())\n",
        "\n",
        "svr_model.fit(X_train_y, y_train_y)\n",
        "svr_predict = svr_model.predict(X_val_y)"
      ]
    },
    {
      "cell_type": "code",
      "execution_count": 31,
      "metadata": {
        "id": "nZfROpcB_Hn6"
      },
      "outputs": [],
      "source": [
        "svr_score_val = round(svr_model.score(X_val_y, y_val_y), 4)\n",
        "svr_score_test = round(svr_model.score(X_test_y, y_test_y), 4)"
      ]
    },
    {
      "cell_type": "code",
      "execution_count": 32,
      "metadata": {
        "colab": {
          "base_uri": "https://localhost:8080/"
        },
        "id": "EA_WoKaaADkp",
        "outputId": "b9e24655-7ffc-41e0-a472-0fb10569a723"
      },
      "outputs": [
        {
          "output_type": "stream",
          "name": "stdout",
          "text": [
            "Test score : 0.937\n",
            "Validation score : 0.6207\n"
          ]
        }
      ],
      "source": [
        "print(f\"Test score : {svr_score_val}\")\n",
        "print(f\"Validation score : {svr_score_test}\")\n"
      ]
    },
    {
      "cell_type": "code",
      "execution_count": 32,
      "metadata": {
        "id": "9385WztR_5F4"
      },
      "outputs": [],
      "source": [
        ""
      ]
    },
    {
      "cell_type": "code",
      "execution_count": 33,
      "metadata": {
        "id": "kaIiXp1AUGLq"
      },
      "outputs": [],
      "source": [
        "import pickle \n",
        "\n",
        "with open('yaw_model.pkl', 'wb') as f:\n",
        "    pickle.dump(svr_model, f)\n",
        "\n"
      ]
    },
    {
      "cell_type": "code",
      "execution_count": 33,
      "metadata": {
        "id": "xsQS9y4QUEx1"
      },
      "outputs": [],
      "source": [
        ""
      ]
    },
    {
      "cell_type": "markdown",
      "metadata": {
        "id": "JwQAfjlwMb6D"
      },
      "source": [
        "# Pitch Model"
      ]
    },
    {
      "cell_type": "code",
      "execution_count": 34,
      "metadata": {
        "id": "mk7cA3gZMegh"
      },
      "outputs": [],
      "source": [
        "\n",
        "rf_model_p = make_pipeline(StandardScaler(),PCA(n_components=500, whiten=True),RandomForestRegressor())\n",
        "rf_model_p.fit(X_train_p, y_train_p)\n",
        "rf_predict_test_p = rf_model_p.predict(X_test_p)"
      ]
    },
    {
      "cell_type": "code",
      "execution_count": 35,
      "metadata": {
        "id": "DnSnF85BMegi"
      },
      "outputs": [],
      "source": [
        "\n",
        "# Test error\n",
        "rf_score_test_p = round(rf_model_p.score(X_test_p, y_test_p), 4)\n",
        "rf_score_val_p  = round(rf_model_p.score(X_val_p, y_val_p), 4)"
      ]
    },
    {
      "cell_type": "code",
      "execution_count": 36,
      "metadata": {
        "colab": {
          "base_uri": "https://localhost:8080/"
        },
        "id": "Hf2c0ihkMegi",
        "outputId": "e3fd990b-9f61-4fe1-b82f-e8fa0b026e45"
      },
      "outputs": [
        {
          "output_type": "stream",
          "name": "stdout",
          "text": [
            "Test score : 0.5385\n",
            "Validation score : 0.3572\n"
          ]
        }
      ],
      "source": [
        "print(f\"Test score : {rf_score_test_p}\")\n",
        "print(f\"Validation score : {rf_score_val_p}\")"
      ]
    },
    {
      "cell_type": "code",
      "execution_count": 36,
      "metadata": {
        "id": "oT8yECdND9PO"
      },
      "outputs": [],
      "source": [
        ""
      ]
    },
    {
      "cell_type": "markdown",
      "metadata": {
        "id": "7j-bUQtYD9b_"
      },
      "source": [
        "# SVR"
      ]
    },
    {
      "cell_type": "code",
      "execution_count": 37,
      "metadata": {
        "id": "ql0IEF0qD9b_"
      },
      "outputs": [],
      "source": [
        "\n",
        "svr_model_p =  make_pipeline(StandardScaler(),PCA(n_components=400),SVR())\n",
        "\n",
        "svr_model_p.fit(X_train_p, y_train_p)\n",
        "svr_predict_p= svr_model_p.predict(X_val_p)"
      ]
    },
    {
      "cell_type": "code",
      "execution_count": 38,
      "metadata": {
        "id": "Yv6IDwcWD9b_"
      },
      "outputs": [],
      "source": [
        "svr_score_val_p = round(svr_model_p.score(X_val_p, y_val_p), 4)\n",
        "svr_score_test_p = round(svr_model_p.score(X_test_p, y_test_p), 4)"
      ]
    },
    {
      "cell_type": "code",
      "execution_count": 39,
      "metadata": {
        "colab": {
          "base_uri": "https://localhost:8080/"
        },
        "id": "yS30ksr6D9b_",
        "outputId": "cbd5cddb-2385-48c7-a7c4-611f84c82ab3"
      },
      "outputs": [
        {
          "output_type": "stream",
          "name": "stdout",
          "text": [
            "Test score : 0.6644\n",
            "Validation score : 0.759\n"
          ]
        }
      ],
      "source": [
        "print(f\"Test score : {svr_score_val_p}\")\n",
        "print(f\"Validation score : {svr_score_test_p}\")\n"
      ]
    },
    {
      "cell_type": "code",
      "execution_count": 40,
      "metadata": {
        "id": "xZrlt8U8D9cA"
      },
      "outputs": [],
      "source": [
        "# Test score : 0.6647\n",
        "# Validation score : 0.7591"
      ]
    },
    {
      "cell_type": "code",
      "execution_count": 41,
      "metadata": {
        "id": "bSma7S0xD9cA"
      },
      "outputs": [],
      "source": [
        "import pickle \n",
        "\n",
        "with open('pitch_model.pkl', 'wb') as f:\n",
        "    pickle.dump(svr_model_p, f)\n",
        "\n"
      ]
    },
    {
      "cell_type": "code",
      "execution_count": 41,
      "metadata": {
        "id": "4oP-l4PFD9cA"
      },
      "outputs": [],
      "source": [
        ""
      ]
    },
    {
      "cell_type": "code",
      "execution_count": 41,
      "metadata": {
        "id": "TvYE-m71M-u6"
      },
      "outputs": [],
      "source": [
        "\n"
      ]
    },
    {
      "cell_type": "markdown",
      "metadata": {
        "id": "Tvo-W8WESykU"
      },
      "source": [
        "# Roll Model"
      ]
    },
    {
      "cell_type": "markdown",
      "metadata": {
        "id": "d62jlAr9FUCu"
      },
      "source": [
        "# RandomForest"
      ]
    },
    {
      "cell_type": "code",
      "execution_count": 42,
      "metadata": {
        "id": "pBS_FE-2SykU"
      },
      "outputs": [],
      "source": [
        "\n",
        "rf_model_r = make_pipeline(StandardScaler(),PCA(n_components=100),RandomForestRegressor())\n",
        "rf_model_r.fit(X_train_r, y_train_r)\n",
        "rf_predict_test_r = rf_model_r.predict(X_test_r)"
      ]
    },
    {
      "cell_type": "code",
      "execution_count": 43,
      "metadata": {
        "id": "jusoMPTtSykV"
      },
      "outputs": [],
      "source": [
        "\n",
        "# Test error\n",
        "score_test_r = round(rf_model_r.score(X_test_r, y_test_r), 4)\n",
        "score_val_r = round(rf_model_r.score(X_val_r, y_val_r), 4)\n"
      ]
    },
    {
      "cell_type": "code",
      "execution_count": 44,
      "metadata": {
        "colab": {
          "base_uri": "https://localhost:8080/"
        },
        "id": "ObWTbGVGSykV",
        "outputId": "ee5971e6-4961-45b4-8053-22df54bdba26"
      },
      "outputs": [
        {
          "output_type": "stream",
          "name": "stdout",
          "text": [
            "Test score : 0.5061\n",
            "score val  : 0.2625\n"
          ]
        }
      ],
      "source": [
        "print(f\"Test score : {score_test_r}\")\n",
        "print(f\"score val  : {score_val_r}\")\n"
      ]
    },
    {
      "cell_type": "markdown",
      "metadata": {
        "id": "k1K891XnGdxw"
      },
      "source": [
        "# SVR"
      ]
    },
    {
      "cell_type": "code",
      "execution_count": 45,
      "metadata": {
        "id": "Nlk9Vv8JGdxx"
      },
      "outputs": [],
      "source": [
        "\n",
        "svr_model_r =  make_pipeline(StandardScaler(),PCA(n_components=100),SVR())\n",
        "\n",
        "svr_model_r.fit(X_train_r, y_train_r)\n",
        "svr_predict_r= svr_model_r.predict(X_val_r)"
      ]
    },
    {
      "cell_type": "code",
      "execution_count": 46,
      "metadata": {
        "id": "AguiM8pzGdxx"
      },
      "outputs": [],
      "source": [
        "svr_score_val_r = round(svr_model_r.score(X_val_r, y_val_r), 4)\n",
        "svr_score_test_r = round(svr_model_r.score(X_test_r, y_test_r), 4)"
      ]
    },
    {
      "cell_type": "code",
      "execution_count": 47,
      "metadata": {
        "colab": {
          "base_uri": "https://localhost:8080/"
        },
        "id": "ubN4Ge0GGdxx",
        "outputId": "2ba1c17c-8c7d-408f-ca93-87a979ac8b03"
      },
      "outputs": [
        {
          "output_type": "stream",
          "name": "stdout",
          "text": [
            "Test score : 0.1952\n",
            "Validation score : 0.6485\n"
          ]
        }
      ],
      "source": [
        "print(f\"Test score : {svr_score_val_r}\")\n",
        "print(f\"Validation score : {svr_score_test_r}\")\n"
      ]
    },
    {
      "cell_type": "code",
      "execution_count": 47,
      "metadata": {
        "id": "KNq6AxF7Gdxy"
      },
      "outputs": [],
      "source": [
        ""
      ]
    },
    {
      "cell_type": "code",
      "execution_count": 48,
      "metadata": {
        "id": "3q6bU2jbGdxy"
      },
      "outputs": [],
      "source": [
        "import pickle \n",
        "\n",
        "with open('roll_model.pkl', 'wb') as f:\n",
        "    pickle.dump(rf_model_r, f)\n",
        "\n"
      ]
    },
    {
      "cell_type": "code",
      "execution_count": 49,
      "metadata": {
        "id": "87ab6c21"
      },
      "outputs": [],
      "source": [
        "with open('yaw_model.pkl', 'rb') as f:\n",
        "    yaw_model = pickle.load(f)"
      ]
    },
    {
      "cell_type": "code",
      "execution_count": 50,
      "metadata": {
        "id": "c0bee972"
      },
      "outputs": [],
      "source": [
        "with open('pitch_model.pkl', 'rb') as f:\n",
        "    pitch_model = pickle.load(f)"
      ]
    },
    {
      "cell_type": "code",
      "execution_count": 51,
      "metadata": {
        "id": "1d66d9b2"
      },
      "outputs": [],
      "source": [
        "with open('roll_model.pkl', 'rb') as f:\n",
        "    roll_model = pickle.load(f)"
      ]
    },
    {
      "cell_type": "markdown",
      "metadata": {
        "id": "uEx8yf3UHlIX"
      },
      "source": [
        "# Drawing 3 Axis"
      ]
    },
    {
      "cell_type": "code",
      "execution_count": 52,
      "metadata": {
        "id": "Gr_b0k6aHpqO"
      },
      "outputs": [],
      "source": [
        "def draw_axis(img, pitch,yaw,roll, tdx=None, tdy=None, size = 100):\n",
        "\n",
        "    yaw = -yaw\n",
        "    if tdx != None and tdy != None:\n",
        "        tdx = tdx\n",
        "        tdy = tdy\n",
        "    else:\n",
        "        height, width = img.shape[:2]\n",
        "        tdx = width / 2\n",
        "        tdy = height / 2\n",
        "\n",
        "    # X-Axis pointing to right. drawn in red\n",
        "    x1 = size * (cos(yaw) * cos(roll)) + tdx\n",
        "    y1 = size * (cos(pitch) * sin(roll) + cos(roll) * sin(pitch) * sin(yaw)) + tdy\n",
        "\n",
        "    # Y-Axis | drawn in green\n",
        "    #        v\n",
        "    x2 = size * (-cos(yaw) * sin(roll)) + tdx\n",
        "    y2 = size * (cos(pitch) * cos(roll) - sin(pitch) * sin(yaw) * sin(roll)) + tdy\n",
        "\n",
        "    # Z-Axis (out of the screen) drawn in blue\n",
        "    x3 = size * (sin(yaw)) + tdx\n",
        "    y3 = size * (-cos(yaw) * sin(pitch)) + tdy\n",
        "\n",
        "    cv2.line(img, (int(tdx), int(tdy)), (int(x1),int(y1)),(0,0,255),3)\n",
        "    cv2.line(img, (int(tdx), int(tdy)), (int(x2),int(y2)),(0,255,0),3)\n",
        "    cv2.line(img, (int(tdx), int(tdy)), (int(x3),int(y3)),(255,0,0),2)\n",
        "\n",
        "    return img"
      ]
    },
    {
      "cell_type": "code",
      "execution_count": null,
      "metadata": {
        "id": "Rn9Fz_KoHqZa"
      },
      "outputs": [],
      "source": [
        ""
      ]
    },
    {
      "cell_type": "code",
      "execution_count": 56,
      "metadata": {
        "colab": {
          "base_uri": "https://localhost:8080/",
          "height": 467
        },
        "id": "s8jbnxxuHqcL",
        "outputId": "058d99e0-c2c2-42d8-a7b6-40b49b323711"
      },
      "outputs": [
        {
          "output_type": "display_data",
          "data": {
            "text/plain": [
              "<PIL.Image.Image image mode=RGB size=450x450 at 0x7FC1AA293450>"
            ],
            "image/png": "[encoded data removed]"
          },
          "metadata": {}
        }
      ],
      "source": [
        "# choosing random image from the testing data\n",
        "rand_image = 'image00420'\n",
        "# detecting face and extracting the points\n",
        "faceModule = mp.solutions.face_mesh\n",
        "# loading image \n",
        "with faceModule.FaceMesh(static_image_mode=True) as faces:\n",
        "  # loading the image\n",
        "  image = cv2.imread('/content/AFLW2000/'+rand_image+'.jpg')\n",
        "  # processing the face to extract the landmark points (468 point) for each x,y,z\n",
        "  results = faces.process(cv2.cvtColor(image, cv2.COLOR_BGR2RGB))\n",
        "  if results.multi_face_landmarks != None: \n",
        "    # looping over the faces in the image\n",
        "    for face in results.multi_face_landmarks:\n",
        "        # initializing two lists to store the points for every face.\n",
        "        x_array = []\n",
        "        y_array = []\n",
        "        # looping over the 468 points of x and y\n",
        "        for landmark in face.landmark:\n",
        "            x = landmark.x\n",
        "            y = landmark.y\n",
        "            # note: the x and y values are scaled to the their width and height so we will get back their actual value in the image\n",
        "            shape = image.shape \n",
        "            relative_x = int(x * shape[1])\n",
        "            relative_y = int(y * shape[0])\n",
        "            #Xs of face\n",
        "            x_array.append(relative_x)\n",
        "            #Ys of face\n",
        "            y_array.append(relative_y)\n",
        "\n",
        "        # converting the x anx y to numpy arrays\n",
        "        x_array = np.array(x_array)\n",
        "        y_array = np.array(y_array)\n",
        "\n",
        "        # centering the points arround the 99th point \n",
        "        x_center = x_array - x_array[99]\n",
        "        y_center = y_array - y_array[99]\n",
        "\n",
        "        # computing the distance\n",
        "        distance = np.linalg.norm(np.array((x_array[10],y_array[10])) - np.array((x_array[171],y_array[171])),axis = 0)\n",
        "        x_norm = x_center / distance\n",
        "        y_norm = y_center / distance\n",
        "\n",
        "        # concatinating the x and y points to predict the labels (pitch,yaw,roll)\n",
        "        features = np.hstack([x_norm,y_norm]).reshape(1,-1)\n",
        "\n",
        "        # predicting the 3 angels to draw the axis on the image\n",
        "        pred_pitch = pitch_model.predict(features)\n",
        "        pred_yaw = yaw_model.predict(features)\n",
        "        pred_roll = roll_model.predict(features)\n",
        "        cv2_imshow(draw_axis(image,pred_pitch,pred_yaw,pred_roll,x_array[99],y_array[99]))"
      ]
    },
    {
      "cell_type": "code",
      "execution_count": null,
      "metadata": {
        "colab": {
          "background_save": true
        },
        "id": "dCu-EV3rIoye"
      },
      "outputs": [],
      "source": [
        ""
      ]
    },
    {
      "cell_type": "code",
      "execution_count": 53,
      "metadata": {
        "id": "QEFsWRg4IpNO"
      },
      "outputs": [],
      "source": [
        "# loading the test video\n",
        "%%capture\n",
        "!get clone https://github.com/osamashaaban/Head-Pose-Estimation"
      ]
    },
    {
      "cell_type": "code",
      "execution_count": 57,
      "metadata": {
        "id": "0yl7Pzt2IpP8"
      },
      "outputs": [],
      "source": [
        "# Create a VideoCapture object and read from input file\n",
        "def Create_TestVideo(pitch_model,yaw_model,roll_model,path):\n",
        "  cap = cv2.VideoCapture(path)\n",
        "  width= int(cap.get(cv2.CAP_PROP_FRAME_WIDTH))\n",
        "  height= int(cap.get(cv2.CAP_PROP_FRAME_HEIGHT))\n",
        "\n",
        "  # Check if camera opened successfully\n",
        "  if (cap.isOpened()== False): \n",
        "      print(\"Error opening video file\")\n",
        "  #a list to store the frames of the video  \n",
        "  video_array = []\n",
        "  # Read until video is completed\n",
        "  while(cap.isOpened()):   \n",
        "    # Capture frame-by-frame\n",
        "      ret, frame = cap.read()\n",
        "      if ret == True:\n",
        "        # loading image \n",
        "        with faceModule.FaceMesh(static_image_mode=True) as faces:\n",
        "          # processing the face to extract the landmark points (468 point) for each x,y,z\n",
        "          results = faces.process(cv2.cvtColor(frame, cv2.COLOR_BGR2RGB))\n",
        "          if results.multi_face_landmarks != None: \n",
        "            # looping over the faces in the image\n",
        "            for face in results.multi_face_landmarks:\n",
        "                # initializing two lists to store the points for every face.\n",
        "                x_array = []\n",
        "                y_array = []\n",
        "                # looping over the 468 points of x and y\n",
        "                for landmark in face.landmark:\n",
        "                    x = landmark.x\n",
        "                    y = landmark.y\n",
        "                    # note: the x and y values are scaled to the their width and height so we will get back their actual value in the image\n",
        "                    shape = frame.shape \n",
        "                    relative_x = int(x * shape[1])\n",
        "                    relative_y = int(y * shape[0])\n",
        "                    #Xs of face\n",
        "                    x_array.append(relative_x)\n",
        "                    #Ys of face\n",
        "                    y_array.append(relative_y)\n",
        "\n",
        "                # converting the x anx y to numpy arrays\n",
        "                x_array = np.array(x_array)\n",
        "                y_array = np.array(y_array)\n",
        "\n",
        "                # centering the points arround the 99th point \n",
        "                x_center = x_array - x_array[99]\n",
        "                y_center = y_array - y_array[99]\n",
        "\n",
        "                # computing the distance\n",
        "                distance = np.linalg.norm(np.array((x_array[171],y_array[171])) - np.array((x_array[10],y_array[10])),axis = 0)\n",
        "                x_norm = x_center / distance\n",
        "                y_norm = y_center / distance\n",
        "\n",
        "                # concatinating the x and y points to predict the labels (pitch,yaw,roll)\n",
        "                features = np.hstack([x_norm,y_norm]).reshape(1,-1)\n",
        "\n",
        "                # predicting the 3 angels to draw the axis on the image\n",
        "                pred_pitch = pitch_model.predict(features)\n",
        "                pred_yaw = yaw_model.predict(features)\n",
        "                pred_roll = roll_model.predict(features)\n",
        "                draw_axis(frame,pred_pitch,pred_yaw,pred_roll,x_array[99],y_array[99])\n",
        "                # appending the result frames to the video_array list\n",
        "                video_array.append(frame)\n",
        "      else:\n",
        "        break\n",
        "  cap.release()  \n",
        "  # Closes all the frames\n",
        "  cv2.destroyAllWindows()\n",
        "  print(\"Number of Detected Frames = \",len(video_array))\n",
        "  # converting the frames to video\n",
        "  out = cv2.VideoWriter('Test_video.mp4',cv2.VideoWriter_fourcc(*'DIVX'), 20, (width,height))\n",
        "  for i in range(len(video_array)):\n",
        "    out.write(video_array[i])\n",
        "  out.release()"
      ]
    },
    {
      "cell_type": "code",
      "execution_count": 58,
      "metadata": {
        "colab": {
          "base_uri": "https://localhost:8080/"
        },
        "id": "HeQToylkIuQO",
        "outputId": "992707e7-83fe-4aba-dd59-4244da75ff71"
      },
      "outputs": [
        {
          "output_type": "stream",
          "name": "stdout",
          "text": [
            "Number of Detected Frames =  147\n"
          ]
        }
      ],
      "source": [
        "path = \"/content/Test_video.mp4\" \n",
        "Create_TestVideo(pitch_model,yaw_model,roll_model,path)"
      ]
    },
    {
      "cell_type": "code",
      "execution_count": 59,
      "metadata": {
        "colab": {
          "base_uri": "https://localhost:8080/",
          "height": 17
        },
        "id": "rIpnH-sPIpTK",
        "outputId": "5d08e36c-5f08-4f78-b4f2-e7a9539f6adc"
      },
      "outputs": [
        {
          "output_type": "display_data",
          "data": {
            "text/plain": [
              "<IPython.core.display.Javascript object>"
            ],
            "application/javascript": [
              "\n",
              "    async function download(id, filename, size) {\n",
              "      if (!google.colab.kernel.accessAllowed) {\n",
              "        return;\n",
              "      }\n",
              "      const div = document.createElement('div');\n",
              "      const label = document.createElement('label');\n",
              "      label.textContent = `Downloading \"${filename}\": `;\n",
              "      div.appendChild(label);\n",
              "      const progress = document.createElement('progress');\n",
              "      progress.max = size;\n",
              "      div.appendChild(progress);\n",
              "      document.body.appendChild(div);\n",
              "\n",
              "      const buffers = [];\n",
              "      let downloaded = 0;\n",
              "\n",
              "      const channel = await google.colab.kernel.comms.open(id);\n",
              "      // Send a message to notify the kernel that we're ready.\n",
              "      channel.send({})\n",
              "\n",
              "      for await (const message of channel.messages) {\n",
              "        // Send a message to notify the kernel that we're ready.\n",
              "        channel.send({})\n",
              "        if (message.buffers) {\n",
              "          for (const buffer of message.buffers) {\n",
              "            buffers.push(buffer);\n",
              "            downloaded += buffer.byteLength;\n",
              "            progress.value = downloaded;\n",
              "          }\n",
              "        }\n",
              "      }\n",
              "      const blob = new Blob(buffers, {type: 'application/binary'});\n",
              "      const a = document.createElement('a');\n",
              "      a.href = window.URL.createObjectURL(blob);\n",
              "      a.download = filename;\n",
              "      div.appendChild(a);\n",
              "      a.click();\n",
              "      div.remove();\n",
              "    }\n",
              "  "
            ]
          },
          "metadata": {}
        },
        {
          "output_type": "display_data",
          "data": {
            "text/plain": [
              "<IPython.core.display.Javascript object>"
            ],
            "application/javascript": [
              "download(\"download_16e6c0e9-e7d6-4c41-9d61-3219627fc9c6\", \"Test_video.mp4\", 4892060)"
            ]
          },
          "metadata": {}
        }
      ],
      "source": [
        "from google.colab import files\n",
        "files.download('/content/Test_video.mp4')"
      ]
    },
    {
      "cell_type": "code",
      "execution_count": null,
      "metadata": {
        "colab": {
          "background_save": true
        },
        "id": "K-Ggbj2eUmZK"
      },
      "outputs": [],
      "source": [
        "# drawing_spec = mp_drawing.DrawingSpec(thickness=1, circle_radius=1)\n",
        "# cap = cv2.VideoCapture(0)\n",
        "# with mp_face_mesh.FaceMesh(\n",
        "#     max_num_faces=1,\n",
        "#     refine_landmarks=True,\n",
        "#     min_detection_confidence=0.5,\n",
        "#     min_tracking_confidence=0.5) as face_mesh:\n",
        "#   while cap.isOpened():\n",
        "#     success, image = cap.read()\n",
        "#     if not success:\n",
        "#       print(\"Ignoring empty camera frame.\")\n",
        "#       # If loading a video, use 'break' instead of 'continue'.\n",
        "#       continue\n",
        "\n",
        "#     # To improve performance, optionally mark the image as not writeable to\n",
        "#     # pass by reference.\n",
        "#     image.flags.writeable = False\n",
        "#     image = cv2.cvtColor(image, cv2.COLOR_BGR2RGB)\n",
        "#     results = face_mesh.process(image)\n",
        "\n",
        "#     # Draw the face mesh annotations on the image.\n",
        "#     image.flags.writeable = True\n",
        "#     image = cv2.cvtColor(image, cv2.COLOR_RGB2BGR)\n",
        "#     if results.multi_face_landmarks:\n",
        "#       for face_landmarks in results.multi_face_landmarks:\n",
        "#         mp_drawing.draw_landmarks(\n",
        "#             image=image,\n",
        "#             landmark_list=face_landmarks,\n",
        "#             connections=mp_face_mesh.FACEMESH_TESSELATION,\n",
        "#             landmark_drawing_spec=None,\n",
        "#             connection_drawing_spec=mp_drawing_styles\n",
        "#             .get_default_face_mesh_tesselation_style())\n",
        "#         mp_drawing.draw_landmarks(\n",
        "#             image=image,\n",
        "#             landmark_list=face_landmarks,\n",
        "#             connections=mp_face_mesh.FACEMESH_CONTOURS,\n",
        "#             landmark_drawing_spec=None,\n",
        "#             connection_drawing_spec=mp_drawing_styles\n",
        "#             .get_default_face_mesh_contours_style())\n",
        "#         mp_drawing.draw_landmarks(\n",
        "#             image=image,\n",
        "#             landmark_list=face_landmarks,\n",
        "#             connections=mp_face_mesh.FACEMESH_IRISES,\n",
        "#             landmark_drawing_spec=None,\n",
        "#             connection_drawing_spec=mp_drawing_styles\n",
        "#             .get_default_face_mesh_iris_connections_style())\n",
        "#     # Flip the image horizontally for a selfie-view display.\n",
        "#     cv2.imshow('MediaPipe Face Mesh', cv2.flip(image, 1))\n",
        "#     if cv2.waitKey(5) & 0xFF == 27:\n",
        "#       break\n",
        "# cap.release()"
      ]
    },
    {
      "cell_type": "code",
      "execution_count": null,
      "metadata": {
        "colab": {
          "background_save": true
        },
        "id": "LaQCWdSUbGEK"
      },
      "outputs": [],
      "source": [
        ""
      ]
    }
  ],
  "metadata": {
    "colab": {
      "name": "Untitled5 (1).ipynb",
      "provenance": []
    },
    "gpuClass": "standard",
    "kernelspec": {
      "display_name": "Python 3",
      "name": "python3"
    },
    "language_info": {
      "name": "python"
    }
  },
  "nbformat": 4,
  "nbformat_minor": 0
}